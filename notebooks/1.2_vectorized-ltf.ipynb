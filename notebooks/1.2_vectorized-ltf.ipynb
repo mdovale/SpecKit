{
 "cells": [
  {
   "cell_type": "code",
   "execution_count": null,
   "id": "0473668d",
   "metadata": {},
   "outputs": [],
   "source": [
    "import timeit\n",
    "import numpy as np\n",
    "import pandas as pd\n",
    "import math\n",
    "import sys\n",
    "import logging\n",
    "import matplotlib.pyplot as plt\n",
    "from IPython.display import display, HTML  # safe table display without .style\n",
    "\n",
    "from speckit.schedulers import vectorized_ltf_plan, ltf_plan"
   ]
  },
  {
   "cell_type": "code",
   "execution_count": null,
   "id": "04d9b28b",
   "metadata": {},
   "outputs": [],
   "source": [
    "test_scenarios = [\n",
    "    {\"description\": \"Small\", \"params\": {'N': 100_000, 'Jdes': 500, 'fs': 1000, 'olap': 0.5, 'bmin': 1.5, 'Lmin': 32, 'Kdes': 50}},\n",
    "    {\"description\": \"Typical\", \"params\": {'N': 1_000_000, 'Jdes': 2000, 'fs': 1000, 'olap': 0.5, 'bmin': 1.5, 'Lmin': 128, 'Kdes': 100}},\n",
    "    {\"description\": \"High-Res (Jdes)\", \"params\": {'N': 1_000_000, 'Jdes': 10000, 'fs': 1000, 'olap': 0.5, 'bmin': 1.5, 'Lmin': 128, 'Kdes': 100}},\n",
    "    {\"description\": \"Long Data (N)\", \"params\": {'N': 10_000_000, 'Jdes': 2000, 'fs': 1000, 'olap': 0.5, 'bmin': 1.5, 'Lmin': 128, 'Kdes': 100}},\n",
    "]\n",
    "num_runs = 10\n",
    "results_data = []\n",
    "\n",
    "print(\"Comparing Performance of LTF Schedulers (running...)\")\n",
    "\n",
    "vectorized_ltf_plan(**(test_scenarios[0][\"params\"]))\n",
    "\n",
    "for scenario in test_scenarios:\n",
    "    params = scenario[\"params\"]\n",
    "    \n",
    "    # Use globals() in notebook environment for timeit\n",
    "    iter_times = timeit.repeat(lambda: ltf_plan(**params), number=1, repeat=num_runs)\n",
    "    vec_times = timeit.repeat(lambda: vectorized_ltf_plan(**params), number=1, repeat=num_runs)\n",
    "\n",
    "    iter_avg_time = np.mean(iter_times)\n",
    "    vec_avg_time = np.mean(vec_times)\n",
    "    speedup = iter_avg_time / vec_avg_time if vec_avg_time > 0 else float('inf')\n",
    "    \n",
    "    results_data.append({\n",
    "        \"Scenario\": scenario[\"description\"],\n",
    "        \"Iterative Time (s)\": iter_avg_time,\n",
    "        \"Vectorized Time (s)\": vec_avg_time,\n",
    "        \"Speedup (x)\": speedup\n",
    "    })"
   ]
  },
  {
   "cell_type": "code",
   "execution_count": null,
   "id": "a67ee81c",
   "metadata": {},
   "outputs": [],
   "source": [
    "results_df = pd.DataFrame(results_data)\n",
    "\n",
    "# Make a formatted copy for display\n",
    "fmt_df = results_df.copy()\n",
    "fmt_df[\"Iterative Time (s)\"] = fmt_df[\"Iterative Time (s)\"].map(lambda v: f\"{v:.4f}\")\n",
    "fmt_df[\"Vectorized Time (s)\"] = fmt_df[\"Vectorized Time (s)\"].map(lambda v: f\"{v:.4f}\")\n",
    "fmt_df[\"Speedup (x)\"] = fmt_df[\"Speedup (x)\"].map(lambda v: f\"{v:.2f}x\")\n",
    "\n",
    "caption_html = \"<h3>Performance Benchmark Results</h3>\"\n",
    "table_html = fmt_df.to_html(index=False, escape=False)  # pure pandas HTML, no jinja2\n",
    "display(HTML(caption_html + table_html))"
   ]
  },
  {
   "cell_type": "code",
   "execution_count": null,
   "id": "d6804525",
   "metadata": {},
   "outputs": [],
   "source": [
    "labels = results_df['Scenario']\n",
    "iter_times = results_df['Iterative Time (s)']\n",
    "vec_times = results_df['Vectorized Time (s)']\n",
    "speedups = results_df['Speedup (x)']\n",
    "x = np.arange(len(labels))\n",
    "width = 0.35\n",
    "\n",
    "fig, (ax1, ax2) = plt.subplots(2, 1, figsize=(12, 10), sharex=True)\n",
    "fig.suptitle('LTF Scheduler Performance Comparison', fontsize=16)\n",
    "\n",
    "# --- Plot 1: Execution Time ---\n",
    "rects1 = ax1.bar(x - width/2, iter_times, width, label='Iterative (ltf_plan)', color='skyblue')\n",
    "rects2 = ax1.bar(x + width/2, vec_times, width, label='Vectorized', color='coral')\n",
    "ax1.set_ylabel('Execution Time (seconds)')\n",
    "ax1.set_title('Execution Time per Scenario (Log Scale)')\n",
    "ax1.set_yscale('log')\n",
    "ax1.legend()\n",
    "ax1.bar_label(rects1, padding=3, fmt='%.3f')\n",
    "ax1.bar_label(rects2, padding=3, fmt='%.3f')\n",
    "ax1.grid(axis='y', linestyle='--', alpha=0.7)\n",
    "\n",
    "# --- Plot 2: Speedup Factor ---\n",
    "rects3 = ax2.bar(x, speedups, color='mediumseagreen')\n",
    "ax2.set_ylabel('Speedup Factor (x)')\n",
    "ax2.set_title('Speedup Factor of Vectorized vs. Iterative')\n",
    "ax2.set_xticks(x)\n",
    "ax2.set_xticklabels(labels, rotation=0)\n",
    "ax2.bar_label(rects3, padding=3, fmt='%.1fx')\n",
    "ax2.axhline(1, color='grey', linestyle='--', lw=1) # Add a line at 1x for reference\n",
    "ax2.grid(axis='y', linestyle='--', alpha=0.7)\n",
    "\n",
    "fig.tight_layout(rect=[0, 0, 1, 0.96])\n",
    "plt.show()"
   ]
  }
 ],
 "metadata": {
  "kernelspec": {
   "display_name": ".venv",
   "language": "python",
   "name": "python3"
  },
  "language_info": {
   "codemirror_mode": {
    "name": "ipython",
    "version": 3
   },
   "file_extension": ".py",
   "mimetype": "text/x-python",
   "name": "python",
   "nbconvert_exporter": "python",
   "pygments_lexer": "ipython3",
   "version": "3.12.11"
  }
 },
 "nbformat": 4,
 "nbformat_minor": 5
}
