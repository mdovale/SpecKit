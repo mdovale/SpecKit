{
 "cells": [
  {
   "cell_type": "code",
   "execution_count": null,
   "id": "e573f78f",
   "metadata": {},
   "outputs": [],
   "source": [
    "import requests\n",
    "import numpy as np\n",
    "import matplotlib.pyplot as plt\n",
    "from scipy.io import loadmat\n",
    "\n",
    "from speckit import compute_spectrum\n",
    "from speckit.plotting import default_rc\n",
    "\n",
    "plt.rcParams.update(default_rc)"
   ]
  },
  {
   "cell_type": "code",
   "execution_count": null,
   "id": "eeacd28b",
   "metadata": {},
   "outputs": [],
   "source": [
    "# The following link should lead to a .mat datafile\n",
    "# Contact the author at mikedovale@pm.me if the link is broken\n",
    "url = \"https://www.dropbox.com/s/znmk8tfm0gv8a7b/GFO_Week52_2022.mat?dl=1\"\n",
    "\n",
    "# Download the file\n",
    "response = requests.get(url)\n",
    "with open(\"data.mat\", \"wb\") as f:\n",
    "    f.write(response.content)\n",
    "\n",
    "# Load the .mat file into a NumPy array\n",
    "data = loadmat(\"data.mat\")\n",
    "x = np.array(data[\"RawPhase\"][:, 0])\n",
    "print(x)\n",
    "\n",
    "fs = 9.664"
   ]
  },
  {
   "cell_type": "code",
   "execution_count": null,
   "id": "8b5bd178",
   "metadata": {},
   "outputs": [],
   "source": [
    "xlabel = \"Sample\"\n",
    "ylabel = \"Signal\"\n",
    "title = \"GRACE Follow On LRI range in meters - Calendar week 52, 2022\"\n",
    "\n",
    "fig, ax = plt.subplots(figsize=(8, 3))\n",
    "ax.plot(x, label=\"test\", color=\"k\")\n",
    "ax.set_xlabel(xlabel)\n",
    "ax.set_ylabel(ylabel)\n",
    "ax.set_title(title)\n",
    "fig.tight_layout()\n",
    "fig.align_ylabels()\n",
    "plt.show()"
   ]
  },
  {
   "cell_type": "code",
   "execution_count": null,
   "id": "af6900f3",
   "metadata": {},
   "outputs": [],
   "source": [
    "olap = 0.75\n",
    "Jdes = 1000\n",
    "force_target_nf = True\n",
    "res = {}\n",
    "\n",
    "res[\"ltf\"] = compute_spectrum(\n",
    "    x,\n",
    "    fs=fs,\n",
    "    win=\"kaiser\",\n",
    "    olap=olap,\n",
    "    Jdes=Jdes,\n",
    "    force_target_nf=force_target_nf,\n",
    "    scheduler=\"vectorized_ltf\",\n",
    ")"
   ]
  },
  {
   "cell_type": "code",
   "execution_count": null,
   "id": "23459b8a",
   "metadata": {},
   "outputs": [],
   "source": [
    "res[\"new_ltf\"] = compute_spectrum(\n",
    "    x,\n",
    "    fs=fs,\n",
    "    win=\"kaiser\",\n",
    "    olap=olap,\n",
    "    Jdes=Jdes,\n",
    "    force_target_nf=force_target_nf,\n",
    "    scheduler=\"new_ltf\",\n",
    ")"
   ]
  },
  {
   "cell_type": "code",
   "execution_count": null,
   "id": "92962582",
   "metadata": {},
   "outputs": [],
   "source": [
    "fig, ax = plt.subplots()\n",
    "\n",
    "res[\"ltf\"].plot(ax=ax, label=\"LTF\")\n",
    "res[\"new_ltf\"].plot(ax=ax, label=\"New LTF\", ls='--')\n",
    "\n",
    "ax.legend()\n",
    "plt.show()"
   ]
  }
 ],
 "metadata": {
  "kernelspec": {
   "display_name": ".venv",
   "language": "python",
   "name": "python3"
  },
  "language_info": {
   "codemirror_mode": {
    "name": "ipython",
    "version": 3
   },
   "file_extension": ".py",
   "mimetype": "text/x-python",
   "name": "python",
   "nbconvert_exporter": "python",
   "pygments_lexer": "ipython3",
   "version": "3.12.11"
  }
 },
 "nbformat": 4,
 "nbformat_minor": 5
}
