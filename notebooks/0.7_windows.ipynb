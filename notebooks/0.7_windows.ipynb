{
 "cells": [
  {
   "cell_type": "code",
   "execution_count": 1,
   "metadata": {},
   "outputs": [],
   "source": [
    "import requests\n",
    "import numpy as np\n",
    "import matplotlib.pyplot as plt\n",
    "from tqdm import tqdm\n",
    "from spectools import lpsd\n",
    "import scipy.signal.windows as win\n",
    "from scipy.io import loadmat\n",
    "import spectools.flattop as ft\n",
    "from functools import partial\n",
    "\n",
    "import multiprocessing as mp\n",
    "ctx = mp.get_context('fork')\n",
    "pool = ctx.Pool()"
   ]
  },
  {
   "cell_type": "code",
   "execution_count": null,
   "metadata": {},
   "outputs": [],
   "source": [
    "# The following link should lead to a .mat datafile\n",
    "# Contact the author at spectools@pm.me if the link is broken\n",
    "url = 'https://www.dropbox.com/s/znmk8tfm0gv8a7b/GFO_Week52_2022.mat?dl=1'\n",
    "\n",
    "# Download the file\n",
    "response = requests.get(url)\n",
    "with open('data.mat', 'wb') as f:\n",
    "    f.write(response.content)\n",
    "\n",
    "# Load the .mat file into a NumPy array\n",
    "data = loadmat('data.mat')\n",
    "x = np.array(data['RawPhase'][:,0])\n",
    "print(x)\n",
    "\n",
    "fs=9.664"
   ]
  },
  {
   "cell_type": "code",
   "execution_count": null,
   "metadata": {},
   "outputs": [],
   "source": [
    "figsize=(8,3)\n",
    "dpi=150\n",
    "fontsize=8\n",
    "linewidth=1.5\n",
    "xlabel=\"Sample\"\n",
    "ylabel=\"Signal\"\n",
    "title=\"GRACE Follow On LRI range in meters - Calendar week 52, 2022\"\n",
    "\n",
    "fig, ax = plt.subplots(figsize=figsize, dpi=dpi)\n",
    "ax.plot(x, linewidth=linewidth, label=\"test\", color=\"gray\")\n",
    "ax.set_xlabel(xlabel, fontsize=fontsize)\n",
    "ax.set_ylabel(ylabel, fontsize=fontsize)\n",
    "ax.set_title(title, fontsize=fontsize)\n",
    "ax.tick_params(labelsize=fontsize)\n",
    "ax.grid()\n",
    "fig.tight_layout()\n",
    "fig.align_ylabels()\n",
    "plt.show()"
   ]
  },
  {
   "cell_type": "code",
   "execution_count": null,
   "metadata": {},
   "outputs": [],
   "source": [
    "# List of window functions available in scipy.signal.windows\n",
    "windows_sc = {name: getattr(win, name) for name in dir(win) if callable(getattr(win, name))}\n",
    "windows_sc"
   ]
  },
  {
   "cell_type": "code",
   "execution_count": null,
   "metadata": {},
   "outputs": [],
   "source": [
    "# List of window functions available in spectools.flattop\n",
    "windows_ft = {name: getattr(ft, name) for name in dir(ft) if callable(getattr(ft, name))}\n",
    "windows_ft"
   ]
  },
  {
   "cell_type": "code",
   "execution_count": null,
   "metadata": {},
   "outputs": [],
   "source": [
    "# List of window functions available in scipy.signal.windows\n",
    "# windows = {name: getattr(win, name) for name in dir(win) if callable(getattr(win, name))}\n",
    "# windows\n",
    "\n",
    "windows = {\n",
    "    'boxcar': win.boxcar,\n",
    "    'triang': win.triang,\n",
    "    # 'blackman': win.blackman,\n",
    "    # 'hamming': win.hamming,\n",
    "    'hann': win.hann,\n",
    "    # 'bartlett': win.bartlett,\n",
    "    # 'flattop': win.flattop,\n",
    "    # 'parzen': win.parzen,\n",
    "    # 'bohman': win.bohman,\n",
    "    # 'blackmanharris': win.blackmanharris,\n",
    "    'nuttall': partial(win.nuttall, sym=False),\n",
    "    # 'barthann': win.barthann,\n",
    "    'kaiser': win.kaiser,\n",
    "    # 'tukey': win.tukey\n",
    "    # \"SFT3F\": ft.SFT3F,\n",
    "    # \"SFT3M\": ft.SFT3M,\n",
    "    # \"FTNI\": ft.FTNI,\n",
    "    # \"SFT4F\": ft.SFT4F,\n",
    "    # \"SFT5F\": ft.SFT5F,\n",
    "    # \"SFT4M\": ft.SFT4M,\n",
    "    # \"FTHP\": ft.FTHP,\n",
    "    \"HFT70\": ft.HFT70,\n",
    "    # \"FTSRS\": ft.FTSR,\n",
    "    # \"SFT5M\": ft.SFT5M,\n",
    "    # \"HFT90D\": ft.HFT90D,\n",
    "    # \"HFT95\": ft.HFT95,\n",
    "    # \"HFT116D\": ft.HFT116D,\n",
    "    # \"HFT144D\": ft.HFT144D,\n",
    "    # \"HFT169D\": ft.HFT169D,\n",
    "    # \"HFT196D\": ft.HFT196D,\n",
    "    # \"HFT223D\": ft.HFT223D,\n",
    "    # \"HFT248D\": ft.HFT248D\n",
    "    }\n",
    "windows"
   ]
  },
  {
   "cell_type": "code",
   "execution_count": 8,
   "metadata": {},
   "outputs": [],
   "source": [
    "res = {} # Dictionary to store results"
   ]
  },
  {
   "cell_type": "code",
   "execution_count": null,
   "metadata": {},
   "outputs": [],
   "source": [
    "olap = 0.75\n",
    "Jdes = 1000\n",
    "Kdes = 100\n",
    "force_Jdes = True\n",
    "scheduler='lpsd'\n",
    "\n",
    "for win_str, win_fun in tqdm(windows.items()):\n",
    "    res[win_str] = lpsd.ltf(x, fs=fs, win=win_fun, olap=olap, Jdes=Jdes, Kdes=Kdes, adjust_Jdes=force_Jdes, scheduler=scheduler, pool=pool)"
   ]
  },
  {
   "cell_type": "code",
   "execution_count": null,
   "metadata": {},
   "outputs": [],
   "source": [
    "figsize=(6,4)\n",
    "dpi=150\n",
    "fontsize=8\n",
    "linewidth=1.5\n",
    "\n",
    "fig, ax = plt.subplots(figsize=figsize, dpi=dpi)\n",
    "\n",
    "for win_str, psd in res.items():\n",
    "    ax.loglog(psd.f, psd.asd, lw=linewidth, label=win_str)\n",
    "ax.set_xlim([psd.f[0],psd.f[-1]])\n",
    "ax.set_xlabel(\"Fourier frequency (Hz)\", fontsize=fontsize)\n",
    "ax.set_ylabel(r\"ASD $\\rm (A/Hz^{1/2})$\", fontsize=fontsize)\n",
    "ax.tick_params(axis='both', which='both', labelsize=fontsize)\n",
    "ax.grid(which='both')\n",
    "ax.set_title(\"Comparison of different window functions in a high dynamic range signal\", fontsize=fontsize)\n",
    "ax.legend(loc='best', edgecolor='black', fancybox=True, shadow=True, framealpha=1, fontsize=fontsize, handlelength=2.5)\n",
    "fig.tight_layout()\n",
    "plt.show()"
   ]
  },
  {
   "cell_type": "code",
   "execution_count": null,
   "metadata": {},
   "outputs": [],
   "source": []
  },
  {
   "cell_type": "markdown",
   "metadata": {},
   "source": []
  }
 ],
 "metadata": {
  "kernelspec": {
   "display_name": "py311",
   "language": "python",
   "name": "python3"
  },
  "language_info": {
   "codemirror_mode": {
    "name": "ipython",
    "version": 3
   },
   "file_extension": ".py",
   "mimetype": "text/x-python",
   "name": "python",
   "nbconvert_exporter": "python",
   "pygments_lexer": "ipython3",
   "version": "3.11.7"
  }
 },
 "nbformat": 4,
 "nbformat_minor": 2
}
