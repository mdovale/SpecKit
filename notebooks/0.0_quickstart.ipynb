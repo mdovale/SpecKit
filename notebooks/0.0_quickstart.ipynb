{
 "cells": [
  {
   "cell_type": "code",
   "execution_count": null,
   "metadata": {},
   "outputs": [],
   "source": [
    "import numpy as np\n",
    "import matplotlib.pyplot as plt\n",
    "from scipy.signal import welch\n",
    "\n",
    "from speckit import compute_spectrum\n",
    "from speckit.noise import band_limited_noise\n",
    "from multiprocessing import Pool"
   ]
  },
  {
   "cell_type": "code",
   "execution_count": null,
   "metadata": {},
   "outputs": [],
   "source": [
    "# Generate sample data:\n",
    "N  = int(1e6)           # Length of the example time series\n",
    "fs = 2.                 # Sampling frequency\n",
    "x = np.random.rand(N)  # Generate random data of the given length\n",
    "\n",
    "# Calculate spectrum via Welch's method:\n",
    "f1, psd = welch(x, fs, window=(\"kaiser\", 30), nperseg=N//4)\n",
    "\n",
    "# Calculate spectrum via SpecKit:\n",
    "obj = compute_spectrum(\n",
    "    x,\n",
    "    fs,\n",
    "    order=0,         # -1: pass through, 0: remove mean, 1...n: polynomial detrend\n",
    "    Jdes=1000,       # Target number of frequencies\n",
    "    Kdes=100,        # Control parameter for the scheduler\n",
    "    bmin=1.0,        # Minimum fractional bin number to consider\n",
    "    Lmin=20,         # Minimum length of time series segments\n",
    "    win=\"Kaiser\",    # Window function to use\n",
    "    olap=\"default\",  # Fractional segment overlap (\"default\" will use optimal value for the given window)\n",
    "    psll=200,        # Peak sidelobe level suppression (used to calculate optimal Kaiser window parameters)\n",
    "    pool=Pool()      # multiprocessing Pool\n",
    ")"
   ]
  },
  {
   "cell_type": "code",
   "execution_count": null,
   "metadata": {},
   "outputs": [],
   "source": [
    "fig, ax = plt.subplots(figsize=(6,4), dpi=150)\n",
    "ax.set_xlabel('Fourier frequency (Hz)')\n",
    "ax.set_ylabel(r'Spectral density (units $/\\sqrt{\\rm Hz}$)')\n",
    "ax.loglog(f1, np.sqrt(psd), label=\"Welch\", color='gray', alpha=0.5)\n",
    "obj.plot(which='asd', errors=True, sigma=3, ax=ax, label='SpecKit')\n",
    "ax.set_xlim(obj.f[0], obj.f[-1])\n",
    "ax.set_ylim(1e-3,2)\n",
    "plt.show()"
   ]
  }
 ],
 "metadata": {
  "kernelspec": {
   "display_name": ".venv",
   "language": "python",
   "name": "python3"
  },
  "language_info": {
   "codemirror_mode": {
    "name": "ipython",
    "version": 3
   },
   "file_extension": ".py",
   "mimetype": "text/x-python",
   "name": "python",
   "nbconvert_exporter": "python",
   "pygments_lexer": "ipython3",
   "version": "3.12.11"
  }
 },
 "nbformat": 4,
 "nbformat_minor": 2
}
