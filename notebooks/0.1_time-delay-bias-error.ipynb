{
 "cells": [
  {
   "cell_type": "code",
   "execution_count": null,
   "metadata": {},
   "outputs": [],
   "source": [
    "import numpy as np\n",
    "import matplotlib.pyplot as plt\n",
    "import spectools.lpsd as lpsd\n",
    "import spectools.aux as aux\n",
    "from pytdi.dsp import timeshift\n",
    "from multiprocessing import Pool\n",
    "import scipy.signal.windows as win\n",
    "from tqdm import tqdm"
   ]
  },
  {
   "cell_type": "code",
   "execution_count": null,
   "metadata": {},
   "outputs": [],
   "source": [
    "# Noise generation\n",
    "N = int(1e6) # samples\n",
    "fs = 1e6 # Hertz\n",
    "T = N/fs # seconds\n",
    "delay = 1e-4 # seconds\n",
    "print(f\"Total time = {T} seconds\")\n",
    "print(f\"Time delay = {delay} seconds\")\n",
    "\n",
    "y0 = np.random.normal(0, 1, N)\n",
    "y1 = timeshift(y0, delay*fs) + 0.0*np.random.normal(0, 1, N)\n",
    "\n",
    "n_trunc = int(2*delay*fs)\n",
    "\n",
    "if n_trunc > 0:\n",
    "    y0 = y0[n_trunc:-n_trunc]\n",
    "    y1 = y1[n_trunc:-n_trunc]\n",
    "\n",
    "print(f\"Total length of time series after cropping = {len(y1)}\")\n",
    "\n",
    "coh_NBE = []\n",
    "coh_dev = []\n",
    "tf_NBE = []\n",
    "\n",
    "x_axis = np.linspace(0.01,1.0,20) # delay/T\n",
    "for x in tqdm(x_axis):\n",
    "    T = delay/x # record length in seconds\n",
    "    L = int(T*fs) # record length in integer samples\n",
    "    tf0 = lpsd.ltf_single_bin([y0,y0], fs=fs, freq=fs/2, L=L, win=win.boxcar, olap=0.95)\n",
    "    tf1 = lpsd.ltf_single_bin([y0,y1], fs=fs, freq=fs/2, L=L, win=win.boxcar, olap=0.95)\n",
    "    coh_NBE.append((np.array(tf1.coh) - np.array(tf0.coh))/np.array(tf0.coh))\n",
    "    coh_dev.append(tf1.coh_dev)\n",
    "    tf_NBE.append((np.abs(tf1.Hxy) - np.abs(tf0.Hxy))/np.abs(tf0.Hxy))"
   ]
  },
  {
   "cell_type": "code",
   "execution_count": null,
   "metadata": {},
   "outputs": [],
   "source": [
    "fig, ax = plt.subplots(figsize=(4,4), dpi=150)\n",
    "\n",
    "# NBE of frequency response estimate (https://doi.org/10.1016/0022-460X(78)90396-6, Equation 23)\n",
    "ax.plot(x_axis, 1-x_axis-1, c='gray', ls='-', lw=5, alpha=0.5)\n",
    "\n",
    "# NBE of coherence estimate (https://doi.org/10.1016/0022-460X(78)90396-6, Equation 24)\n",
    "ax.plot(x_axis, (1-x_axis)**2-1, c='gray', ls='-', lw=5, alpha=0.5)\n",
    "\n",
    "ax.plot(x_axis, tf_NBE, c='k', ls='-', label=r'$|H_{xy}|$')\n",
    "ax.plot(x_axis, coh_NBE, c='k', ls='--', label=r'$\\gamma_{xy}^2$')\n",
    "\n",
    "ax.set_xlabel(r'$\\tau_0/T$')\n",
    "ax.set_ylabel(r'Normalized bias error')\n",
    "ax.set_xlim(0,1)\n",
    "ax.set_ylim(-1,0)\n",
    "ax.legend(loc='best', edgecolor='black', fancybox=True, shadow=True, framealpha=1, handlelength=2.5)\n",
    "plt.show()"
   ]
  },
  {
   "cell_type": "code",
   "execution_count": null,
   "metadata": {},
   "outputs": [],
   "source": []
  },
  {
   "cell_type": "code",
   "execution_count": null,
   "metadata": {},
   "outputs": [],
   "source": []
  },
  {
   "cell_type": "code",
   "execution_count": null,
   "metadata": {},
   "outputs": [],
   "source": []
  }
 ],
 "metadata": {
  "kernelspec": {
   "display_name": "py311",
   "language": "python",
   "name": "python3"
  },
  "language_info": {
   "codemirror_mode": {
    "name": "ipython",
    "version": 3
   },
   "file_extension": ".py",
   "mimetype": "text/x-python",
   "name": "python",
   "nbconvert_exporter": "python",
   "pygments_lexer": "ipython3",
   "version": "3.11.7"
  }
 },
 "nbformat": 4,
 "nbformat_minor": 2
}
