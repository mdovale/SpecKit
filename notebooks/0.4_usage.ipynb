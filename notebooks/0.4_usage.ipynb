{
 "cells": [
  {
   "cell_type": "code",
   "execution_count": null,
   "metadata": {},
   "outputs": [],
   "source": [
    "import numpy as np\n",
    "import matplotlib.pyplot as plt\n",
    "\n",
    "from speckit import lpsd\n",
    "\n",
    "import multiprocessing as mp\n",
    "pool = mp.Pool()"
   ]
  },
  {
   "cell_type": "code",
   "execution_count": null,
   "metadata": {},
   "outputs": [],
   "source": [
    "plt.rcParams.update({\n",
    "    # Figure and axes properties\n",
    "    'figure.figsize': (5, 3),            # Figure size in inches\n",
    "    'figure.dpi': 150,                   # Dots per inch for the figure (controls resolution)\n",
    "    'figure.facecolor': 'white',         # Background color of the figure\n",
    "    'figure.edgecolor': 'white',         # Edge color of the figure\n",
    "    'axes.facecolor': 'white',           # Background color of the axes\n",
    "    'axes.edgecolor': 'black',           # Edge color of the axes\n",
    "    'axes.linewidth': 1.0,               # Line width of the axes' frame\n",
    "    'axes.grid': True,                   # Whether to show grid lines by default\n",
    "    'grid.color': 'gray',                # Grid line color\n",
    "    'grid.linestyle': '--',              # Grid line style\n",
    "    'grid.linewidth': 0.7,               # Grid line width\n",
    "\n",
    "    # Font and text properties\n",
    "    'font.size': 8,                      # Default font size\n",
    "    'font.family': 'sans-serif',         # Font family\n",
    "    'font.sans-serif': ['Arial'],        # Specify sans-serif font\n",
    "    'axes.labelsize': 8,                 # Font size for axes labels\n",
    "    'axes.titlesize': 9,                 # Font size for the plot title\n",
    "    'axes.labelcolor': 'black',          # Color of the axes labels\n",
    "    'axes.titleweight': 'regular',       # Weight of the title font\n",
    "    'legend.fontsize': 8,                # Font size of the legend\n",
    "    'legend.frameon': True,              # Whether to draw a frame around the legend\n",
    "\n",
    "    # Tick properties\n",
    "    'xtick.labelsize': 8,                # Font size for x-axis tick labels\n",
    "    'ytick.labelsize': 8,                # Font size for y-axis tick labels\n",
    "    'xtick.color': 'black',              # Color of x-axis ticks\n",
    "    'ytick.color': 'black',              # Color of y-axis ticks\n",
    "    'xtick.direction': 'out',            # Direction of x-axis ticks ('in' or 'out')\n",
    "    'ytick.direction': 'out',            # Direction of y-axis ticks\n",
    "\n",
    "    # Lines properties\n",
    "    'lines.linewidth': 1.5,              # Default line width\n",
    "    'lines.color': 'black',              # Default line color\n",
    "    'lines.linestyle': '-',              # Default line style ('-', '--', '-.', ':')\n",
    "    'lines.marker': '',                  # Default marker for points\n",
    "    'lines.markersize': 5,               # Marker size\n",
    "\n",
    "    # Legend properties\n",
    "    'legend.loc': 'best',                # Legend location ('best', 'upper right', etc.)\n",
    "    'legend.framealpha': 1.0,            # Transparency of the legend frame\n",
    "    'legend.edgecolor': 'black',         # Edge color of the legend box\n",
    "\n",
    "    # Save figure properties\n",
    "    'savefig.dpi': 300,                  # Resolution when saving figures\n",
    "    'savefig.format': 'pdf',             # Default format for saving figures\n",
    "    'savefig.bbox': 'tight',             # Bounding box when saving figures\n",
    "    'savefig.facecolor': 'white',        # Background color for saved figures\n",
    "\n",
    "    # Color properties\n",
    "    'axes.prop_cycle': plt.cycler('color', ['#1f77b4', '#ff7f0e', '#2ca02c', '#d62728', '#9467bd']),\n",
    "    # Define a color cycle for different plot lines\n",
    "})\n",
    "\n",
    "# Crayons Theme:\n",
    "plt.rcParams['axes.prop_cycle'] = plt.cycler('color', [\n",
    "    '#DC143C', '#FFD700', '#00BFFF', '#32CD32', '#FF69B4',\n",
    "    '#FF4500', '#1E90FF', '#8A2BE2', '#FFA07A', '#8B0000',\n",
    "    '#FF8C00', '#00FA9A', '#7B68EE', '#20B2AA', \n",
    "    '#FF6347', '#4682B4'\n",
    "])"
   ]
  },
  {
   "cell_type": "code",
   "execution_count": null,
   "metadata": {},
   "outputs": [],
   "source": [
    "size = int(1e5)\n",
    "rho = 1e-3\n",
    "pink_x = np.fft.irfft(np.fft.rfft(np.random.normal(size=size)) / np.sqrt(np.arange(size//2+1)+1))\n",
    "pink_y = rho * pink_x + np.sqrt(1 - rho**2) * np.fft.irfft(np.fft.rfft(np.random.normal(size=size)) / np.sqrt(np.arange(size//2+1)+1))\n",
    "brown_noise_1 = np.cumsum(np.random.normal(0, 1, size))\n",
    "brown_noise_2 = np.cumsum(np.random.normal(0, 1, size))\n",
    "signal_1 = pink_x + 1*np.sin(2*np.pi*2.12345e-3*np.arange(size) + 1e-3*brown_noise_1) + 1*np.sin(2*np.pi*1e-1*np.arange(size) + 1e-3*brown_noise_2)\n",
    "signal_2 = pink_y + (1/3)*np.sin(2*np.pi*2.12345e-3*np.arange(size) + 2e-3*brown_noise_1) + (1/3)*np.sin(2*np.pi*1e-1*np.arange(size) + 1e-3*brown_noise_2)"
   ]
  },
  {
   "cell_type": "code",
   "execution_count": null,
   "metadata": {},
   "outputs": [],
   "source": [
    "fig, ax = plt.subplots(figsize=(6,2), dpi=150)\n",
    "\n",
    "ax.plot(signal_1, lw=1, c='k')\n",
    "ax.plot(signal_2, lw=1, c='orange', alpha=0.5)\n",
    "# ax.set_xlim(0,500)\n",
    "ax.set_xlabel('Sample')\n",
    "ax.set_ylabel('Signal')"
   ]
  },
  {
   "cell_type": "markdown",
   "metadata": {},
   "source": [
    "Let's compute the ASD of `pink_x` and `pink_y` while passing the multiprocessing.Pool argument, which allows parallelizing the execution of the LPSD algorithm across the scheduled frequencies."
   ]
  },
  {
   "cell_type": "code",
   "execution_count": null,
   "metadata": {},
   "outputs": [],
   "source": [
    "f, asd_x = lpsd.asd(signal_1, 1, pool=pool, bmin=8)\n",
    "_, asd_y = lpsd.asd(signal_2, 1, pool=pool, bmin=8)\n",
    "\n",
    "f, ps_x = lpsd.ps(signal_1, 1, pool=pool, bmin=8)\n",
    "_, ps_y = lpsd.ps(signal_2, 1, pool=pool, bmin=8)"
   ]
  },
  {
   "cell_type": "code",
   "execution_count": null,
   "metadata": {},
   "outputs": [],
   "source": [
    "figsize=(3,2.5)\n",
    "dpi=150\n",
    "fontsize=8\n",
    "linewidth=1\n",
    "\n",
    "fig, ax = plt.subplots(figsize=figsize, dpi=dpi)\n",
    "ax.loglog(f, asd_x, linewidth=linewidth, color=\"black\");\n",
    "ax.loglog(f, asd_y, linewidth=linewidth, color=\"orange\");\n",
    "ax.set_xlim([f[0], f[-1]])\n",
    "ax.set_xlabel(\"Fourier frequency (Hz)\", fontsize=fontsize);\n",
    "ax.set_ylabel(r\"Amplitude spectral density\", fontsize=fontsize);\n",
    "ax.tick_params(axis='both', which='both', labelsize=fontsize)\n",
    "ax.grid();\n",
    "fig.tight_layout();"
   ]
  },
  {
   "cell_type": "code",
   "execution_count": null,
   "metadata": {},
   "outputs": [],
   "source": [
    "figsize=(3,2.5)\n",
    "dpi=150\n",
    "fontsize=8\n",
    "linewidth=1\n",
    "\n",
    "fig, ax = plt.subplots(figsize=figsize, dpi=dpi)\n",
    "ax.loglog(f, ps_x, linewidth=linewidth, color=\"black\");\n",
    "ax.loglog(f, ps_y, linewidth=linewidth, color=\"orange\");\n",
    "ax.set_xlim([f[0], f[-1]])\n",
    "ax.set_ylim(1e-2,1)\n",
    "ax.set_xlabel(\"Fourier frequency (Hz)\", fontsize=fontsize);\n",
    "ax.set_ylabel(r\"Power spectrum\", fontsize=fontsize);\n",
    "ax.tick_params(axis='both', which='both', labelsize=fontsize)\n",
    "ax.grid(which='both');\n",
    "fig.tight_layout();"
   ]
  },
  {
   "cell_type": "markdown",
   "metadata": {},
   "source": [
    "Now, let's compute the CSD and coherence of `pink_x` and `pink_y`"
   ]
  },
  {
   "cell_type": "code",
   "execution_count": null,
   "metadata": {},
   "outputs": [],
   "source": [
    "f, csd = lpsd.csd([signal_1,signal_2], 1, pool=pool)\n",
    "_, cf = lpsd.coh([signal_1,signal_2], 1, pool=pool)\n",
    "_, coh = lpsd.coh([signal_1,signal_2], 1, pool=pool)"
   ]
  },
  {
   "cell_type": "code",
   "execution_count": null,
   "metadata": {},
   "outputs": [],
   "source": [
    "figsize=(3,4)\n",
    "dpi=150\n",
    "fontsize=8\n",
    "linewidth=1\n",
    "\n",
    "fig, (ax1, ax2, ax3) = plt.subplots(3,1, figsize=figsize, dpi=dpi, gridspec_kw={'height_ratios': [1, 1, 1]})\n",
    "ax1.semilogx(f, coh, linewidth=linewidth, label=\"test\", color=\"black\");\n",
    "ax2.loglog(f, np.abs(csd), linewidth=linewidth, label=\"test\", color=\"black\");\n",
    "ax3.loglog(f, cf, linewidth=linewidth, label=\"test\", color=\"black\");\n",
    "ax3.set_xlabel(\"Fourier frequency (Hz)\", fontsize=fontsize);\n",
    "ax1.set_ylabel(\"Coherence\", fontsize=fontsize);\n",
    "ax2.set_ylabel(\"CSD magnitude\", fontsize=fontsize);\n",
    "ax3.set_ylabel(\"Coupling coefficient\", fontsize=fontsize);\n",
    "ax1.set_xlim([f[0], f[-1]])\n",
    "ax2.set_xlim([f[0], f[-1]])\n",
    "ax3.set_xlim([f[0], f[-1]])\n",
    "ax1.tick_params(which='both', labelsize=fontsize);\n",
    "ax2.tick_params(which='both', labelsize=fontsize);\n",
    "ax3.tick_params(which='both', labelsize=fontsize);\n",
    "ax1.grid();\n",
    "ax2.grid();\n",
    "ax3.grid();\n",
    "fig.tight_layout();\n",
    "fig.align_ylabels();\n"
   ]
  },
  {
   "cell_type": "markdown",
   "metadata": {},
   "source": [
    "The previous functions returned the Fourier frequency array and the desired measurement array (e.g., the ASD, CSD, coherence, etc). In the more general workflow, an LTFObject is returned, which contains attributes of all possible measurements. "
   ]
  },
  {
   "cell_type": "code",
   "execution_count": null,
   "metadata": {},
   "outputs": [],
   "source": [
    "csd_obj = lpsd.ltf((signal_1, signal_2), 1, pool=pool)\n",
    "csd_obj_inband = lpsd.ltf((signal_1, signal_2), 1, band=[1e-3,1e-1], pool=pool)"
   ]
  },
  {
   "cell_type": "code",
   "execution_count": null,
   "metadata": {},
   "outputs": [],
   "source": [
    "csd_obj_inband.f"
   ]
  },
  {
   "cell_type": "code",
   "execution_count": null,
   "metadata": {},
   "outputs": [],
   "source": [
    "figsize=(3,2.5)\n",
    "dpi=150\n",
    "fontsize=8\n",
    "linewidth=1\n",
    "\n",
    "fig, (ax1, ax2) = plt.subplots(2,1, figsize=figsize, dpi=dpi, gridspec_kw={'height_ratios': [1, 1]})\n",
    "ax1.semilogx(f, csd_obj.coh, linewidth=linewidth, label=\"test\", color=\"k\", ls='-');\n",
    "ax1.semilogx(csd_obj_inband.f, csd_obj_inband.coh, linewidth=linewidth, label=\"test\", color=\"orange\", ls='--');\n",
    "ax2.loglog(f, np.abs(csd_obj.Hxy), linewidth=linewidth, label=\"test\", color=\"k\", ls='-');\n",
    "ax2.loglog(csd_obj_inband.f, np.abs(csd_obj_inband.Hxy), linewidth=linewidth, label=\"test\", color=\"orange\", ls='--');\n",
    "ax2.set_xlabel(\"Fourier frequency (Hz)\", fontsize=fontsize);\n",
    "ax1.set_ylabel(\"Coherence\", fontsize=fontsize);\n",
    "ax2.set_ylabel(\"abs(CSD)\", fontsize=fontsize);\n",
    "ax1.set_xlim([f[0], f[-1]])\n",
    "ax2.set_xlim([f[0], f[-1]])\n",
    "ax1.tick_params(which='both', labelsize=fontsize);\n",
    "ax2.tick_params(which='both', labelsize=fontsize);\n",
    "ax1.grid();\n",
    "ax2.grid();\n",
    "fig.tight_layout();\n",
    "fig.align_ylabels();\n"
   ]
  },
  {
   "cell_type": "markdown",
   "metadata": {},
   "source": [
    "The `LTFObject` class has a plot method for a variety of measurements... plot options can be passed as optional arguments"
   ]
  },
  {
   "cell_type": "code",
   "execution_count": null,
   "metadata": {},
   "outputs": [],
   "source": [
    "fig, (ax2, ax1) = csd_obj.plot(which='bode', errors=True, sigma=3, dB=False, unwrap=True, deg=False)\n",
    "ax1.set_ylim(-20,20)\n",
    "plt.show()"
   ]
  },
  {
   "cell_type": "code",
   "execution_count": null,
   "metadata": {},
   "outputs": [],
   "source": [
    "fig, ax = csd_obj.plot(which='cf', c='tomato', lw=1, ls='--', marker='o', markersize=3.5, label='Test')\n",
    "ax.set_title('This is a test plot')\n",
    "ax.legend()\n",
    "plt.show()"
   ]
  },
  {
   "cell_type": "code",
   "execution_count": null,
   "metadata": {},
   "outputs": [],
   "source": []
  },
  {
   "cell_type": "code",
   "execution_count": null,
   "metadata": {},
   "outputs": [],
   "source": [
    "csd_obj.plot(which='coh', color='tomato', lw=1, ls='-', ylabel='Coherence function')"
   ]
  },
  {
   "cell_type": "markdown",
   "metadata": {},
   "source": [
    "The `get_measurement` method allows estimating a measurement at a specified frequency by interpolation of the existing measurements. For example, let's compute the coupling coefficient precisely at 1 mHz:"
   ]
  },
  {
   "cell_type": "code",
   "execution_count": null,
   "metadata": {},
   "outputs": [],
   "source": [
    "csd_obj.get_measurement(1e-3, which='cf')"
   ]
  },
  {
   "cell_type": "markdown",
   "metadata": {},
   "source": [
    "Apart from the spectral estimates, the target measurement could be the bin number `m` or the frequency resolution `r`: "
   ]
  },
  {
   "cell_type": "code",
   "execution_count": null,
   "metadata": {},
   "outputs": [],
   "source": [
    "csd_obj.get_measurement(1e-3, which='m')"
   ]
  },
  {
   "cell_type": "code",
   "execution_count": null,
   "metadata": {},
   "outputs": [],
   "source": [
    "csd_obj.get_measurement(1e-3, which='r')"
   ]
  },
  {
   "cell_type": "code",
   "execution_count": null,
   "metadata": {},
   "outputs": [],
   "source": [
    "for f, r, m in zip(csd_obj.f, csd_obj.r, csd_obj.m):\n",
    "    print(f\"{f:6.6f}, {r:6.6f}, {m:6.3f}\")"
   ]
  },
  {
   "cell_type": "markdown",
   "metadata": {},
   "source": [
    "We can also perform single-bin computations"
   ]
  },
  {
   "cell_type": "code",
   "execution_count": null,
   "metadata": {},
   "outputs": [],
   "source": [
    "csd_obj.get_measurement(1e-3, which='r')"
   ]
  },
  {
   "cell_type": "code",
   "execution_count": null,
   "metadata": {},
   "outputs": [],
   "source": [
    "csd_obj2 = lpsd.ltf_single_bin([pink_x, pink_y], 1, 1e-3, csd_obj.get_measurement(1e-3, which='r'))"
   ]
  },
  {
   "cell_type": "code",
   "execution_count": null,
   "metadata": {},
   "outputs": [],
   "source": [
    "csd_obj2.cf, csd_obj.get_measurement(1e-3, which='cf')"
   ]
  },
  {
   "cell_type": "code",
   "execution_count": null,
   "metadata": {},
   "outputs": [],
   "source": [
    "coh = []\n",
    "cf = []\n",
    "\n",
    "for f, fres in zip(csd_obj.f, csd_obj.r):\n",
    "    csd_sb = lpsd.ltf_single_bin([signal_1, signal_2], 1, f, fres)\n",
    "    cf.append(csd_sb.cf)\n",
    "    coh.append(csd_sb.coh)"
   ]
  },
  {
   "cell_type": "code",
   "execution_count": null,
   "metadata": {},
   "outputs": [],
   "source": [
    "figsize=(3,2)\n",
    "dpi=150\n",
    "fontsize=8\n",
    "linewidth=1.5\n",
    "\n",
    "fig, ax = plt.subplots(figsize=figsize, dpi=dpi)\n",
    "ax.loglog(csd_obj.f, csd_obj.cf, linewidth=linewidth, label=\"test\", color=\"black\");\n",
    "ax.loglog(csd_obj.f, cf, linewidth=linewidth, label=\"test\", color=\"orange\", ls='--');\n",
    "ax.set_xlim([csd_obj.f[0],csd_obj.f[-1]])\n",
    "ax.set_xlabel(\"Fourier frequency (Hz)\", fontsize=fontsize);\n",
    "ax.tick_params(axis='both', which='both', labelsize=fontsize)\n",
    "ax.grid();\n",
    "fig.tight_layout();"
   ]
  },
  {
   "cell_type": "code",
   "execution_count": null,
   "metadata": {},
   "outputs": [],
   "source": [
    "figsize=(3,2)\n",
    "dpi=150\n",
    "fontsize=8\n",
    "linewidth=1.\n",
    "\n",
    "fig, ax = plt.subplots(figsize=figsize, dpi=dpi)\n",
    "ax.loglog(csd_obj.f, np.abs((csd_obj.cf-cf)/csd_obj.cf), linewidth=linewidth, label=\"test\", color=\"red\", ls='-');\n",
    "ax.set_xlim([csd_obj.f[0],csd_obj.f[-1]])\n",
    "ax.set_xlabel(\"Fourier frequency (Hz)\", fontsize=fontsize);\n",
    "ax.tick_params(axis='both', which='both', labelsize=fontsize)\n",
    "ax.grid();\n",
    "fig.tight_layout();"
   ]
  },
  {
   "cell_type": "markdown",
   "metadata": {},
   "source": [
    "Let's now compute the auto-spectrum of `pink_x` in LTFObject format:"
   ]
  },
  {
   "cell_type": "code",
   "execution_count": null,
   "metadata": {},
   "outputs": [],
   "source": [
    "psd_obj = lpsd.ltf(pink_x, 1, pool=pool)"
   ]
  },
  {
   "cell_type": "markdown",
   "metadata": {},
   "source": [
    "The RMS signal variations from the ASD measurement is calculated via the `get_rms` method:"
   ]
  },
  {
   "cell_type": "code",
   "execution_count": null,
   "metadata": {},
   "outputs": [],
   "source": [
    "psd_obj.get_rms()"
   ]
  },
  {
   "cell_type": "markdown",
   "metadata": {},
   "source": [
    "We can generate a timeseries from a calculated PSD via the `get_timeseries` method:"
   ]
  },
  {
   "cell_type": "code",
   "execution_count": null,
   "metadata": {},
   "outputs": [],
   "source": [
    "timeseries = psd_obj.get_timeseries(0.5, 1e6)"
   ]
  },
  {
   "cell_type": "code",
   "execution_count": null,
   "metadata": {},
   "outputs": [],
   "source": [
    "fig, ax = plt.subplots(figsize=(6,2), dpi=150)\n",
    "ax.plot(timeseries, c='k', lw=1)\n",
    "ax.set_xlabel('Sample')\n",
    "ax.set_ylabel('Signal')"
   ]
  },
  {
   "cell_type": "code",
   "execution_count": null,
   "metadata": {},
   "outputs": [],
   "source": [
    "psd_obj2 = lpsd.ltf(timeseries, 1, pool=pool)"
   ]
  },
  {
   "cell_type": "code",
   "execution_count": null,
   "metadata": {},
   "outputs": [],
   "source": [
    "figsize=(3,2.5)\n",
    "dpi=150\n",
    "fontsize=8\n",
    "linewidth=2\n",
    "\n",
    "fig, ax = plt.subplots(figsize=figsize, dpi=dpi)\n",
    "ax.loglog(psd_obj.f, psd_obj.asd, linewidth=linewidth, color=\"black\");\n",
    "ax.loglog(psd_obj2.f, psd_obj2.asd, linewidth=1, color=\"orange\", ls='-');\n",
    "ax.set_xlim([psd_obj.f[0], psd_obj.f[-1]])\n",
    "ax.set_xlabel(\"Fourier frequency (Hz)\", fontsize=fontsize);\n",
    "ax.set_ylabel(r\"ASD $\\rm (A/Hz^{1/2})$\", fontsize=fontsize);\n",
    "ax.tick_params(axis='both', which='both', labelsize=fontsize)\n",
    "ax.grid();\n",
    "fig.tight_layout();"
   ]
  }
 ],
 "metadata": {
  "kernelspec": {
   "display_name": ".venv",
   "language": "python",
   "name": "python3"
  },
  "language_info": {
   "codemirror_mode": {
    "name": "ipython",
    "version": 3
   },
   "file_extension": ".py",
   "mimetype": "text/x-python",
   "name": "python",
   "nbconvert_exporter": "python",
   "pygments_lexer": "ipython3",
   "version": "3.12.11"
  }
 },
 "nbformat": 4,
 "nbformat_minor": 2
}
