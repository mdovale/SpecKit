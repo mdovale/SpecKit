{
 "cells": [
  {
   "cell_type": "code",
   "execution_count": null,
   "id": "e12c9409",
   "metadata": {},
   "outputs": [],
   "source": [
    "import numpy as np\n",
    "import matplotlib.pyplot as plt\n",
    "\n",
    "from speckit import compute_spectrum, default_rc\n",
    "plt.rcParams.update(default_rc)"
   ]
  },
  {
   "cell_type": "code",
   "execution_count": null,
   "id": "b9fa215a",
   "metadata": {},
   "outputs": [],
   "source": [
    "# Generate synthetic data with quadratic trend\n",
    "np.random.seed(7)\n",
    "fs = 1024.0         # Hz\n",
    "T = 16.0            # seconds\n",
    "N = int(T * fs)\n",
    "t = np.arange(N) / fs\n",
    "\n",
    "# A couple of tones + white noise\n",
    "noise = 0.003 * np.random.randn(N)\n",
    "sig = 0.2 * np.sin(2 * np.pi * 7.5 * t) + 0.1 * np.sin(2 * np.pi * 55.0 * t)\n",
    "\n",
    "# Quadratic trend a0 + a1*t + a2*t^2\n",
    "a0, a1, a2 = 0.8, -0.5, 0.01\n",
    "trend = a0 + a1 * t + a2 * (t ** 2)\n",
    "\n",
    "x = sig + noise + trend\n",
    "\n",
    "# Compute spectra for orders -1, 0, 1, 2\n",
    "orders = [-1, 0, 1, 2]\n",
    "results = {}\n",
    "for o in orders:\n",
    "    res = compute_spectrum(x, fs, order=o)\n",
    "    results[o] = (res.f, res.asd)\n",
    "\n",
    "# %% [4] Plot ASD overlays\n",
    "plt.figure(figsize=(7.5, 5))\n",
    "for o in orders:\n",
    "    f, A = results[o]\n",
    "    if o == 2:\n",
    "        ls='--'\n",
    "    else:\n",
    "        ls='-'\n",
    "    plt.loglog(f, A, label=f\"order={o}\", lw=2, ls=ls)\n",
    "plt.xlabel(\"Frequency [Hz]\")\n",
    "plt.ylabel(\"ASD [units/√Hz]\")\n",
    "plt.title(\"Effect of polynomial detrending on ASD\")\n",
    "plt.grid(True, which=\"both\")\n",
    "plt.legend()\n",
    "plt.tight_layout()\n",
    "plt.show()"
   ]
  }
 ],
 "metadata": {
  "kernelspec": {
   "display_name": ".venv",
   "language": "python",
   "name": "python3"
  },
  "language_info": {
   "codemirror_mode": {
    "name": "ipython",
    "version": 3
   },
   "file_extension": ".py",
   "mimetype": "text/x-python",
   "name": "python",
   "nbconvert_exporter": "python",
   "pygments_lexer": "ipython3",
   "version": "3.12.11"
  }
 },
 "nbformat": 4,
 "nbformat_minor": 5
}
