{
 "cells": [
  {
   "cell_type": "code",
   "execution_count": null,
   "metadata": {},
   "outputs": [],
   "source": [
    "import numpy as np\n",
    "import matplotlib.pyplot as plt\n",
    "from scipy import signal\n",
    "\n",
    "from spectools import lpsd\n",
    "\n",
    "import multiprocessing"
   ]
  },
  {
   "cell_type": "code",
   "execution_count": null,
   "metadata": {},
   "outputs": [],
   "source": [
    "def fftnoise(f):\n",
    "    f = np.array(f, dtype='complex')\n",
    "    Np = (len(f) - 1) // 2\n",
    "    phases = np.random.rand(Np) * 2 * np.pi\n",
    "    phases = np.cos(phases) + 1j * np.sin(phases)\n",
    "    f[1:Np+1] *= phases\n",
    "    f[-1:-1-Np:-1] = np.conj(f[1:Np+1])\n",
    "    return np.fft.ifft(f).real\n",
    "    \n",
    "def band_limited_noise(min_freq, max_freq, samples=1024, samplerate=1):\n",
    "    freqs = np.abs(np.fft.fftfreq(samples, 1/samplerate))\n",
    "    f = np.zeros(samples)\n",
    "    idx = np.where(np.logical_and(freqs>=min_freq, freqs<=max_freq))[0]\n",
    "    f[idx] = 1\n",
    "    return fftnoise(f)\n",
    "    \n",
    "N  = int(1e7)\n",
    "fs = 2000\n",
    "\n",
    "x1 = 200*band_limited_noise(200, 300, N, fs) + 1e-6*band_limited_noise(1, 10, N, fs) + 1e-9*band_limited_noise(0.01, 0.1, N, fs)\n",
    "# x1 = np.random.rand(N)\n",
    "\n",
    "fig, ax = plt.subplots(figsize=(16,4), dpi=150)\n",
    "ax.set_xlabel('Sample')\n",
    "ax.set_ylabel('Signal')\n",
    "ax.plot(x1, color='black')\n",
    "\n",
    "f1, psd1 = signal.welch(x1, fs=fs, window=(\"kaiser\", 30), nperseg=int(10e6), noverlap=int(10e6/2), scaling='density', return_onesided=True)\n",
    "\n",
    "fig, ax = plt.subplots(figsize=(6,4), dpi=150)\n",
    "ax.set_xlabel('Fourier frequency (Hz)')\n",
    "ax.set_ylabel(r'Spectral density (units $/\\sqrt{\\rm Hz}$)')\n",
    "ax.loglog(f1, psd1, color='black')"
   ]
  },
  {
   "cell_type": "code",
   "execution_count": null,
   "metadata": {},
   "outputs": [],
   "source": [
    "bmin = 0\n",
    "order = -1\n",
    "lpsd.use_c_core = False\n",
    "pool = multiprocessing.Pool()\n",
    "\n",
    "psd2 = lpsd.lpsd(x1, fs=fs, bmin=bmin, order=order, win=\"Kaiser\", Jdes=800, psll=250, pool=pool, object_return=True, verbose=True)"
   ]
  },
  {
   "cell_type": "code",
   "execution_count": null,
   "metadata": {},
   "outputs": [],
   "source": [
    "bmin = 0\n",
    "order = -1\n",
    "lpsd.use_c_core = True\n",
    "\n",
    "psd3 = lpsd.lpsd(x1, fs=fs, bmin=bmin, order=order, win=\"Kaiser\", Jdes=800, psll=250, object_return=True, verbose=True)"
   ]
  },
  {
   "cell_type": "code",
   "execution_count": null,
   "metadata": {},
   "outputs": [],
   "source": [
    "fig, ax = plt.subplots(figsize=(6,4), dpi=150)\n",
    "ax.set_xlabel('Fourier frequency (Hz)')\n",
    "ax.set_ylabel(r'Spectral density (units $/\\sqrt{\\rm Hz}$)')\n",
    "ax.loglog(f1, np.sqrt(psd1), label=\"Welch\", color='gray')\n",
    "ax.loglog(psd2.f, np.sqrt(psd2.Gxx), label=\"Python\", color='red')\n",
    "ax.loglog(psd3.f, np.sqrt(psd3.Gxx), linestyle='--', label=\"C w/ OpenMP\", color='blue')\n",
    "ax.legend()"
   ]
  },
  {
   "cell_type": "code",
   "execution_count": null,
   "metadata": {},
   "outputs": [],
   "source": [
    "fig, ax = plt.subplots(figsize=(6,4), dpi=150)\n",
    "ax.set_xlabel('Fourier frequency (Hz)')\n",
    "ax.set_ylabel(r'Spectral density (units $/\\sqrt{\\rm Hz}$)')\n",
    "ax.loglog(f1, np.sqrt(psd1), label=\"Welch\", color='gray')\n",
    "ax.loglog(psd2.f, np.sqrt(psd2.Gxx), label=\"Python\", color='red')\n",
    "ax.loglog(psd2.f, np.sqrt(psd2.Gxy_dev), linestyle='--', label=\"Python (variance)\", color='red')\n",
    "ax.loglog(psd3.f, np.sqrt(psd3.Gxx), label=\"C w/ OpenMP\", color='blue')\n",
    "ax.loglog(psd3.f, np.sqrt(psd3.Gxy_dev), linestyle='--', label=\"C w/ OpenMP (variance)\", color='blue')\n",
    "ax.set_ylim([1e-12,0.1])\n",
    "ax.set_xlim([1.5e2,4.5e2])\n",
    "ax.legend(loc='upper left', bbox_to_anchor=(1, 0.5), edgecolor='black', fancybox=True, shadow=True, framealpha=1)"
   ]
  },
  {
   "cell_type": "code",
   "execution_count": null,
   "metadata": {},
   "outputs": [],
   "source": [
    "fig, ax = plt.subplots(figsize=(6,4), dpi=150)\n",
    "ax.set_xlabel('Fourier frequency (Hz)')\n",
    "ax.set_ylabel(r'Spectral density (units $/\\sqrt{\\rm Hz}$)')\n",
    "ax.loglog(f1, np.sqrt(psd1), label=\"Welch\", color='gray')\n",
    "ax.loglog(psd2.f, np.sqrt(psd2.Gxx), label=\"Python\", color='red')\n",
    "ax.loglog(psd2.f, np.sqrt(psd2.Gxy_dev), linestyle='--', label=\"Python (variance)\", color='red')\n",
    "ax.loglog(psd3.f, np.sqrt(psd3.Gxx), label=\"C w/ OpenMP\", color='blue')\n",
    "ax.loglog(psd3.f, np.sqrt(psd3.Gxy_dev), linestyle='--', label=\"C w/ OpenMP (variance)\", color='blue')\n",
    "ax.set_ylim([1e-22,1e-9])\n",
    "ax.set_xlim([0.001,100])\n",
    "ax.legend(loc='upper left', bbox_to_anchor=(1, 0.5), edgecolor='black', fancybox=True, shadow=True, framealpha=1)"
   ]
  },
  {
   "cell_type": "code",
   "execution_count": null,
   "metadata": {},
   "outputs": [],
   "source": []
  }
 ],
 "metadata": {
  "kernelspec": {
   "display_name": "py311",
   "language": "python",
   "name": "python3"
  },
  "language_info": {
   "codemirror_mode": {
    "name": "ipython",
    "version": 3
   },
   "file_extension": ".py",
   "mimetype": "text/x-python",
   "name": "python",
   "nbconvert_exporter": "python",
   "pygments_lexer": "ipython3",
   "version": "3.11.7"
  }
 },
 "nbformat": 4,
 "nbformat_minor": 2
}
