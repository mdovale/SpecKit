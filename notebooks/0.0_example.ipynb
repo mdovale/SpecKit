{
 "cells": [
  {
   "cell_type": "code",
   "execution_count": null,
   "metadata": {},
   "outputs": [],
   "source": [
    "import numpy as np\n",
    "import matplotlib.pyplot as plt\n",
    "from scipy import signal\n",
    "from speckit.core import SpectrumAnalyzer\n",
    "from speckit.noise import fftnoise, band_limited_noise\n",
    "import multiprocessing"
   ]
  },
  {
   "cell_type": "code",
   "execution_count": null,
   "metadata": {},
   "outputs": [],
   "source": [
    "N  = int(1e6)\n",
    "fs = 2\n",
    "\n",
    "x1 = 1e-6*band_limited_noise(1e-6, 1e0, N, fs)\\\n",
    "    + 1e3*band_limited_noise(1e-3, 10e-3, N, fs)\\\n",
    "        + 1e3*band_limited_noise(50e-3, 60e-3, N, fs)\\\n",
    "\n",
    "fig, ax = plt.subplots(figsize=(16,4), dpi=150)\n",
    "ax.set_xlabel('Sample')\n",
    "ax.set_ylabel('Signal')\n",
    "ax.plot(x1, color='black')\n",
    "plt.show()\n",
    "\n",
    "f1, psd = signal.welch(x1, fs=fs, window=(\"kaiser\", 30), nperseg=int(N), noverlap=int(N/2), scaling='density', return_onesided=True)\n",
    "\n",
    "fig, ax = plt.subplots(figsize=(6,4), dpi=150)\n",
    "ax.set_xlabel('Fourier frequency (Hz)')\n",
    "ax.set_ylabel(r'Spectral density (units $/\\sqrt{\\rm Hz}$)')\n",
    "ax.loglog(f1, psd, color='black')\n",
    "fig.tight_layout()\n",
    "plt.show()"
   ]
  },
  {
   "cell_type": "code",
   "execution_count": null,
   "metadata": {},
   "outputs": [],
   "source": [
    "# 1. Configure the analyzer\n",
    "print(\"Configuring SpectrumAnalyzer...\")\n",
    "analyzer = SpectrumAnalyzer(\n",
    "    data=x1,\n",
    "    fs=fs,\n",
    "    bmin=1.0,\n",
    "    order=-1,\n",
    "    win=\"Kaiser\",\n",
    "    Jdes=1000,\n",
    "    psll=200,\n",
    "    verbose=True\n",
    ")\n",
    "\n",
    "# 2. (Optional) Inspect the plan before computation\n",
    "plan = analyzer.plan()\n",
    "print(f\"\\nGenerated a plan with {plan['nf']} frequency bins.\")\n",
    "\n",
    "# 3. Create a multiprocessing pool and run the computation\n",
    "pool = multiprocessing.Pool()\n",
    "print(\"\\nStarting computation...\")\n",
    "result_advanced = analyzer.compute(pool=pool)\n",
    "pool.close()\n",
    "pool.join()\n",
    "\n",
    "print(\"\\nComputation complete!\")\n",
    "print(f\"Result object type: {type(result_advanced)}\")"
   ]
  },
  {
   "cell_type": "code",
   "execution_count": null,
   "metadata": {},
   "outputs": [],
   "source": [
    "fig, ax = plt.subplots(figsize=(6,4), dpi=150)\n",
    "ax.set_xlabel('Fourier frequency (Hz)')\n",
    "ax.set_ylabel(r'Spectral density (units $/\\sqrt{\\rm Hz}$)')\n",
    "ax.loglog(f1, np.sqrt(psd), label=\"Welch\", color='gray')\n",
    "result_advanced.plot(which='asd', ax=ax, label='LPSD')\n",
    "ax.legend()\n",
    "fig.tight_layout()\n",
    "plt.show()"
   ]
  }
 ],
 "metadata": {
  "kernelspec": {
   "display_name": ".venv",
   "language": "python",
   "name": "python3"
  },
  "language_info": {
   "codemirror_mode": {
    "name": "ipython",
    "version": 3
   },
   "file_extension": ".py",
   "mimetype": "text/x-python",
   "name": "python",
   "nbconvert_exporter": "python",
   "pygments_lexer": "ipython3",
   "version": "3.12.11"
  }
 },
 "nbformat": 4,
 "nbformat_minor": 2
}
