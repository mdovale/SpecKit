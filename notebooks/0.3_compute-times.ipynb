{
 "cells": [
  {
   "cell_type": "code",
   "execution_count": null,
   "metadata": {},
   "outputs": [],
   "source": [
    "import numpy as np\n",
    "import matplotlib.pyplot as plt\n",
    "import time\n",
    "\n",
    "from speckit import compute_spectrum\n",
    "\n",
    "import multiprocessing\n",
    "\n",
    "pool = multiprocessing.Pool()"
   ]
  },
  {
   "cell_type": "code",
   "execution_count": null,
   "metadata": {},
   "outputs": [],
   "source": [
    "N_values = np.logspace(3, 6, 10, dtype=int)\n",
    "inputs = []\n",
    "for N in N_values:\n",
    "    inputs.append(np.random.rand(N))\n",
    "\n",
    "cpus = [1, 2, 4, 8, 12]\n",
    "times = {cpu: [] for cpu in cpus}\n",
    "\n",
    "for cpu in cpus:\n",
    "    print(\"Computing with CPU = {}...\".format(cpu))\n",
    "    pool = multiprocessing.Pool(cpu)\n",
    "\n",
    "    for i, x in enumerate(inputs):\n",
    "        start_time = time.time()\n",
    "        _ = compute_spectrum(x, fs=2, pool=pool)\n",
    "        times[cpu].append(time.time() - start_time)\n",
    "\n",
    "    pool.close()\n",
    "    pool.join()"
   ]
  },
  {
   "cell_type": "code",
   "execution_count": null,
   "metadata": {},
   "outputs": [],
   "source": [
    "fig, ax = plt.subplots(figsize=(4, 3), dpi=150)\n",
    "for cpu, t in times.items():\n",
    "    ax.loglog(N_values, t, label=f\"CPU={cpu}\")\n",
    "ax.set_xlabel(\"Length of time series\")\n",
    "ax.set_ylabel(\"Computation time (s)\")\n",
    "ax.legend(\n",
    "    loc=\"upper left\",\n",
    "    bbox_to_anchor=(1, 1),\n",
    "    edgecolor=\"black\",\n",
    "    fancybox=True,\n",
    "    shadow=True,\n",
    "    framealpha=1,\n",
    ")\n",
    "ax.grid(True, which=\"both\", color=\"lightgray\", linestyle=\"-\", linewidth=0.5)\n",
    "plt.show()"
   ]
  },
  {
   "cell_type": "code",
   "execution_count": null,
   "metadata": {},
   "outputs": [],
   "source": [
    "for cpu in cpus:\n",
    "    for i, t in enumerate(times[cpu]):\n",
    "        print(\"{}, {}, {}\".format(cpu, N_values[i], t))"
   ]
  }
 ],
 "metadata": {
  "kernelspec": {
   "display_name": ".venv",
   "language": "python",
   "name": "python3"
  },
  "language_info": {
   "codemirror_mode": {
    "name": "ipython",
    "version": 3
   },
   "file_extension": ".py",
   "mimetype": "text/x-python",
   "name": "python",
   "nbconvert_exporter": "python",
   "pygments_lexer": "ipython3",
   "version": "3.12.11"
  }
 },
 "nbformat": 4,
 "nbformat_minor": 2
}
