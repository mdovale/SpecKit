{
 "cells": [
  {
   "cell_type": "code",
   "execution_count": null,
   "metadata": {},
   "outputs": [],
   "source": [
    "import numpy as np\n",
    "import matplotlib.pyplot as plt\n",
    "import time\n",
    "\n",
    "from speckit import compute_spectrum"
   ]
  },
  {
   "cell_type": "code",
   "execution_count": null,
   "metadata": {},
   "outputs": [],
   "source": [
    "N_values =  np.array([1e3,1e4,1e5,1e6], dtype=int)\n",
    "orders = [-1,0,1,2]\n",
    "times = {order: [] for order in orders}\n",
    "\n",
    "inputs = []\n",
    "np.random.seed(123)\n",
    "for N in N_values:\n",
    "    inputs.append(np.random.rand(N))\n",
    "\n",
    "\n",
    "for order in orders:\n",
    "    print(\"Computing with order = {}...\".format(order))\n",
    "\n",
    "    for i, x in enumerate(inputs):\n",
    "        start_time = time.time()\n",
    "        _ = compute_spectrum(x, fs=2, order=order)\n",
    "        times[order].append(time.time() - start_time)"
   ]
  },
  {
   "cell_type": "code",
   "execution_count": null,
   "metadata": {},
   "outputs": [],
   "source": [
    "fig, ax = plt.subplots(figsize=(4, 3), dpi=150)\n",
    "for order, t in times.items():\n",
    "    ax.loglog(N_values, t, label=f\"order={order}\")\n",
    "ax.set_xlabel(\"Length of time series\")\n",
    "ax.set_ylabel(\"Computation time (s)\")\n",
    "ax.legend(\n",
    "    loc=\"upper left\",\n",
    "    bbox_to_anchor=(1, 1),\n",
    "    edgecolor=\"black\",\n",
    "    fancybox=True,\n",
    "    shadow=True,\n",
    "    framealpha=1,\n",
    ")\n",
    "ax.grid(True, which=\"both\", color=\"lightgray\", linestyle=\"-\", linewidth=0.5)\n",
    "plt.show()"
   ]
  }
 ],
 "metadata": {
  "kernelspec": {
   "display_name": ".venv",
   "language": "python",
   "name": "python3"
  },
  "language_info": {
   "codemirror_mode": {
    "name": "ipython",
    "version": 3
   },
   "file_extension": ".py",
   "mimetype": "text/x-python",
   "name": "python",
   "nbconvert_exporter": "python",
   "pygments_lexer": "ipython3",
   "version": "3.12.11"
  }
 },
 "nbformat": 4,
 "nbformat_minor": 2
}
