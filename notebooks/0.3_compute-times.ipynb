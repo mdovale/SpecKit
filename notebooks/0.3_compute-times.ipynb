{
 "cells": [
  {
   "cell_type": "code",
   "execution_count": null,
   "metadata": {},
   "outputs": [],
   "source": [
    "import numpy as np\n",
    "import matplotlib.pyplot as plt\n",
    "import time\n",
    "\n",
    "from spectools import lpsd\n",
    "lpsd.use_c_core = False\n",
    "\n",
    "import multiprocessing\n",
    "pool = multiprocessing.Pool()"
   ]
  },
  {
   "cell_type": "code",
   "execution_count": null,
   "metadata": {},
   "outputs": [],
   "source": [
    "def fftnoise(f):\n",
    "    f = np.array(f, dtype='complex')\n",
    "    Np = (len(f) - 1) // 2\n",
    "    phases = np.random.rand(Np) * 2 * np.pi\n",
    "    phases = np.cos(phases) + 1j * np.sin(phases)\n",
    "    f[1:Np+1] *= phases\n",
    "    f[-1:-1-Np:-1] = np.conj(f[1:Np+1])\n",
    "    return np.fft.ifft(f).real\n",
    "    \n",
    "def band_limited_noise(min_freq, max_freq, samples=1024, samplerate=1):\n",
    "    freqs = np.abs(np.fft.fftfreq(samples, 1/samplerate))\n",
    "    f = np.zeros(samples)\n",
    "    idx = np.where(np.logical_and(freqs>=min_freq, freqs<=max_freq))[0]\n",
    "    f[idx] = 1\n",
    "    return fftnoise(f)"
   ]
  },
  {
   "cell_type": "code",
   "execution_count": null,
   "metadata": {},
   "outputs": [],
   "source": [
    "N_values = np.logspace(3,5,10).astype(int)\n",
    "inputs = []\n",
    "for N in N_values:\n",
    "    inputs.append(200*band_limited_noise(200, 500, N, 2000))\n",
    "\n",
    "cpus = [1, 2, 4, 8]\n",
    "times = {cpu: [] for cpu in cpus}\n",
    "\n",
    "for cpu in cpus:\n",
    "    print(\"Computing with CPU = {}...\".format(cpu))\n",
    "    pool = multiprocessing.Pool(cpu)\n",
    "\n",
    "    for i, x in enumerate(inputs):\n",
    "\n",
    "        start_time = time.time()\n",
    "        _ = lpsd.lpsd(x, fs=2000, object_return=True, pool=pool)\n",
    "        times[cpu].append(time.time() - start_time)\n",
    "\n",
    "    pool.close()\n",
    "    pool.join()"
   ]
  },
  {
   "cell_type": "code",
   "execution_count": null,
   "metadata": {},
   "outputs": [],
   "source": [
    "fig, ax = plt.subplots(figsize=(4,3), dpi=150)\n",
    "\n",
    "for cpu, t in times.items():\n",
    "    ax.loglog(N_values, t, label=f'CPU={cpu}')\n",
    "ax.set_xlabel('Length of time series')\n",
    "ax.set_ylabel('Computation time (s)')\n",
    "ax.legend()\n",
    "ax.grid(True, which='both', color='lightgray', linestyle='-', linewidth=0.5)\n",
    "fig.tight_layout()\n"
   ]
  },
  {
   "cell_type": "code",
   "execution_count": null,
   "metadata": {},
   "outputs": [],
   "source": [
    "for cpu in cpus:\n",
    "\tfor i, t in enumerate(times[cpu]):\n",
    "\t\tprint(\"{}, {}, {}\".format(cpu, N_values[i], t))"
   ]
  },
  {
   "cell_type": "code",
   "execution_count": null,
   "metadata": {},
   "outputs": [],
   "source": []
  }
 ],
 "metadata": {
  "kernelspec": {
   "display_name": "py311",
   "language": "python",
   "name": "python3"
  },
  "language_info": {
   "codemirror_mode": {
    "name": "ipython",
    "version": 3
   },
   "file_extension": ".py",
   "mimetype": "text/x-python",
   "name": "python",
   "nbconvert_exporter": "python",
   "pygments_lexer": "ipython3",
   "version": "3.11.7"
  }
 },
 "nbformat": 4,
 "nbformat_minor": 2
}
