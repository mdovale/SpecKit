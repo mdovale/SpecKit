{
 "cells": [
  {
   "cell_type": "code",
   "execution_count": null,
   "metadata": {},
   "outputs": [],
   "source": [
    "import numpy as np\n",
    "from scipy import signal\n",
    "import control as ct\n",
    "import matplotlib.pyplot as plt\n",
    "\n",
    "from spectools import lpsd, dsp\n",
    "lpsd.use_c_core = False\n",
    "\n",
    "import multiprocessing as mp\n",
    "ctx = mp.get_context('fork')\n",
    "pool = ctx.Pool()"
   ]
  },
  {
   "cell_type": "code",
   "execution_count": null,
   "metadata": {},
   "outputs": [],
   "source": [
    "# Step 1: Define the system transfer function\n",
    "tau = 100  # Time constant\n",
    "fs = 2  # Sampling frequency (Hz)\n",
    "dt = 1 / fs  # Time step\n",
    "n = int(2e6)  # Number of samples\n",
    "\n",
    "# Transfer function H(s) = 1 / (tau*s + 1)\n",
    "num = [1]\n",
    "den = [tau, 1]\n",
    "system = signal.TransferFunction(num, den)\n",
    "\n",
    "# Step 2: Generate the input signal (white noise)\n",
    "np.random.seed(42)  # For reproducibility\n",
    "input_signal = np.random.normal(0, 1, n)\n",
    "\n",
    "# Step 3: Generate the output signal by filtering the input through the system\n",
    "t = np.linspace(0, n*dt, n)\n",
    "_, output_signal, _ = signal.lsim(system, input_signal, t)\n",
    "\n",
    "# Introduce frequency-dependent noise to the output\n",
    "freq = np.fft.fftfreq(n, d=dt)\n",
    "noise = np.fft.ifft(np.fft.fft(np.random.normal(0, 1, n)) * (np.abs(freq)**0.5)).real\n",
    "output_signal_noisy = output_signal + 0.5 * noise  # Scale noise appropriately"
   ]
  },
  {
   "cell_type": "code",
   "execution_count": null,
   "metadata": {},
   "outputs": [],
   "source": [
    "fig, ax = plt.subplots()\n",
    "ax.plot(input_signal, label='input')\n",
    "ax.plot(output_signal_noisy, label='output')\n",
    "ax.set_xlabel(\"Time (s)\")\n",
    "ax.set_ylabel(\"Signals\")\n",
    "ax.legend()\n",
    "ax.set_xlim(0,1000)\n",
    "plt.show()"
   ]
  },
  {
   "cell_type": "code",
   "execution_count": null,
   "metadata": {},
   "outputs": [],
   "source": [
    "# Step 4: Compute the cross-spectral density (Welch)\n",
    "f, Pxy = signal.csd(input_signal, output_signal_noisy, fs=fs, nperseg=10000)"
   ]
  },
  {
   "cell_type": "code",
   "execution_count": null,
   "metadata": {},
   "outputs": [],
   "source": [
    "# Step 5: Compute the cross-spectral density (spectools)\n",
    "ltf_obj = lpsd.ltf([input_signal, output_signal_noisy], fs=fs, pool=pool)"
   ]
  },
  {
   "cell_type": "code",
   "execution_count": null,
   "metadata": {},
   "outputs": [],
   "source": [
    "fig, (ax1, ax2) = plt.subplots(2,1)\n",
    "ax1.semilogx(f, ct.mag2db(np.abs(Pxy)), ls='--', label='Welch')\n",
    "ax2.semilogx(f, -np.angle(Pxy, deg=True),  ls='--')\n",
    "ax2.semilogx(ltf_obj.f, np.angle(ltf_obj.Gxy, deg=True))\n",
    "ax1.semilogx(ltf_obj.f, ct.mag2db(np.abs(ltf_obj.Gxy)), label='spectools')\n",
    "ax2.set_xlabel(\"Frequency (Hz)\")\n",
    "ax1.set_ylabel(\"Magnitude (dB)\")\n",
    "ax2.set_ylabel(\"Phase (deg)\")\n",
    "ax1.set_title(\"Cross spectral density estimate\")\n",
    "ax1.legend(framealpha=1, edgecolor='k')\n",
    "ax1.grid(ls='--')\n",
    "ax2.grid(ls='--')\n",
    "ax1.set_xlim(ltf_obj.f[0],ltf_obj.f[-1])\n",
    "ax2.set_xlim(ltf_obj.f[0],ltf_obj.f[-1])\n",
    "plt.show()"
   ]
  },
  {
   "cell_type": "code",
   "execution_count": null,
   "metadata": {},
   "outputs": [],
   "source": [
    "fig, (ax2, ax1) = ltf_obj.plot('bode', errors=True, sigma=3)\n",
    "ax1.set_ylim(-120, 60)"
   ]
  },
  {
   "cell_type": "code",
   "execution_count": null,
   "metadata": {},
   "outputs": [],
   "source": [
    "fig, ax = plt.subplots()\n",
    "ax.semilogx(ltf_obj.f, ltf_obj.coh, label='Coherence')\n",
    "ax.semilogx(ltf_obj.f, ltf_obj.coh_error, label='Normalized random error')\n",
    "ax.semilogx(ltf_obj.f, ltf_obj.coh_dev, label='Standard deviation')\n",
    "ax.semilogx(ltf_obj.f, ltf_obj.coh_error*ltf_obj.coh, ls=':')\n",
    "ax.set_xlabel(\"Fourier frequency (Hz)\")\n",
    "ax.set_ylabel(\"Coherence\")\n",
    "ax.grid(ls='--')\n",
    "ax.legend(framealpha=1, edgecolor='k')\n",
    "ax.set_xlim(ltf_obj.f[0],ltf_obj.f[-1])\n",
    "ax.set_ylim(0,1.2)\n",
    "plt.show()"
   ]
  },
  {
   "cell_type": "code",
   "execution_count": null,
   "metadata": {},
   "outputs": [],
   "source": [
    "fig, ax = plt.subplots()\n",
    "ax.loglog(ltf_obj.f, ltf_obj.coh_dev, lw=6, c='gray', label=r'$\\sigma[\\gamma_{xy}^2]$')\n",
    "ax.loglog(ltf_obj.f, ltf_obj.coh_error*ltf_obj.coh, c='k', label=r'$ \\gamma_{xy}^2 \\cdot \\epsilon_r [\\gamma_{xy}^2]$')\n",
    "ax.set_xlabel(\"Fourier frequency (Hz)\")\n",
    "ax.set_xlim(ltf_obj.f[0],ltf_obj.f[-1])\n",
    "ax.grid(ls='--')\n",
    "ax.legend(edgecolor='k', framealpha=1)\n",
    "plt.show()"
   ]
  },
  {
   "cell_type": "code",
   "execution_count": null,
   "metadata": {},
   "outputs": [],
   "source": [
    "fig, ax = plt.subplots()\n",
    "ax.loglog(ltf_obj.f, ltf_obj.Gxy_dev, lw=6, c='gray', label=r'$\\sigma[ |G_{xy}| ]$')\n",
    "ax.loglog(ltf_obj.f, ltf_obj.Gxy_error*np.abs(ltf_obj.Gxy), c='k', label=r'$|G_{xy}| \\cdot \\epsilon_r[|G_{xy}|]$')\n",
    "ax.set_xlabel(\"Fourier frequency (Hz)\")\n",
    "ax.set_xlim(ltf_obj.f[0],ltf_obj.f[-1])\n",
    "ax.legend(edgecolor='k', framealpha=1)\n",
    "ax.grid(ls='--')\n",
    "plt.show()"
   ]
  },
  {
   "cell_type": "code",
   "execution_count": null,
   "metadata": {},
   "outputs": [],
   "source": [
    "fig, ax = plt.subplots()\n",
    "ax.loglog(ltf_obj.f, ltf_obj.Hxy_dev, lw=6, c='gray', label=r'$\\sigma[ |H_{xy}| ]$')\n",
    "ax.loglog(ltf_obj.f, ltf_obj.cf_mag_error*ltf_obj.cf, c='k', label=r'$|H_{xy}| \\cdot \\epsilon_r[|H_{xy}|]$')\n",
    "ax.set_xlabel(\"Fourier frequency (Hz)\")\n",
    "ax.set_xlim(ltf_obj.f[0],ltf_obj.f[-1])\n",
    "ax.legend(edgecolor='k', framealpha=1)\n",
    "ax.grid(ls='--')\n",
    "plt.show()"
   ]
  },
  {
   "cell_type": "code",
   "execution_count": null,
   "metadata": {},
   "outputs": [],
   "source": [
    "fig, ax = plt.subplots()\n",
    "ax.loglog(ltf_obj.f, ltf_obj.cf_rad_error, lw=6, c='gray', label=r'$\\epsilon_r[ arg[ H_{xy}] ]$')\n",
    "ax.loglog(ltf_obj.f, ltf_obj.Hxy_dev/ltf_obj.cf, c='k', label=r'$\\sigma[|H_{xy}|] / |H_{xy}|$')\n",
    "ax.set_xlabel(\"Fourier frequency (Hz)\")\n",
    "ax.set_ylabel(r\"$\\sigma(\\gamma_{xy}^2)$\")\n",
    "ax.set_xlim(ltf_obj.f[0],ltf_obj.f[-1])\n",
    "ax.legend(edgecolor='k', framealpha=1)\n",
    "ax.grid(ls='--')\n",
    "plt.show()"
   ]
  },
  {
   "cell_type": "code",
   "execution_count": null,
   "metadata": {},
   "outputs": [],
   "source": []
  }
 ],
 "metadata": {
  "kernelspec": {
   "display_name": "py311",
   "language": "python",
   "name": "python3"
  },
  "language_info": {
   "codemirror_mode": {
    "name": "ipython",
    "version": 3
   },
   "file_extension": ".py",
   "mimetype": "text/x-python",
   "name": "python",
   "nbconvert_exporter": "python",
   "pygments_lexer": "ipython3",
   "version": "3.11.7"
  }
 },
 "nbformat": 4,
 "nbformat_minor": 2
}
