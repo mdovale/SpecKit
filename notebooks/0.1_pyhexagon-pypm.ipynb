{
 "cells": [
  {
   "cell_type": "code",
   "execution_count": null,
   "metadata": {},
   "outputs": [],
   "source": [
    "import numpy as np\n",
    "import matplotlib.pyplot as plt\n",
    "import pypm.optical.signal as sig\n",
    "import pyhexagon.processing.spectrums as spc"
   ]
  },
  {
   "cell_type": "code",
   "execution_count": null,
   "metadata": {},
   "outputs": [],
   "source": [
    "# fs = 80e6 / 2**17 / 10 / 6 / 3\n",
    "sps = 80e6\n",
    "duration = 5e-3 # duration of synthetic data (sec)\n",
    "tau = np.arange(0,duration,1/sps) # times (sec)\n",
    "\n",
    "p_lpsd = {\"olap\":\"default\",\"bmin\":1,\"Lmin\":0,\n",
    "           \"Jdes\":2000,\"Kdes\":100,\"order\":0,\n",
    "           \"win\":np.kaiser,\"psll\":250}\n",
    "\n",
    "# : optical parameters\n",
    "fhet = 10e6 # carrier-carrier heterodyne beatnote frequency (Hz)\n",
    "Plo = 1     # local beam power (W)\n",
    "Ps = 1      # signal (= Received) beam power (W)\n",
    "gamma = 1   # heterodine efficiency\n",
    "msb = np.sqrt(2*0.15) # modulation index of clock sidebands (rad)\n",
    "fsb = 1e6   # sideband beatnote frequency offset from a carrier beatnote (Hz)\n",
    "eta = 0.7   # photoreceiver responsivity (A/W)\n",
    "Rf = 30.1e3 # photoreceiver TIA gain (V/A)\n",
    "\n",
    "s = sig.Signal(Plo=Plo, Ps=Ps, gamma=gamma, fhet=fhet, msb=msb, fsb=fsb, eta=eta, Rf=Rf)\n",
    "\n",
    "s.define_noises(seed=0, carrier_asd=60, sps=sps)\n",
    "\n",
    "fig, ax = plt.subplots(figsize=(6,4), dpi=150)\n",
    "ax.plot(s.sequence(tau=tau)[:300])\n",
    "ax.set_xlabel(\"Sample\")\n",
    "ax.set_ylabel(\"Signal\")"
   ]
  },
  {
   "cell_type": "code",
   "execution_count": null,
   "metadata": {},
   "outputs": [],
   "source": [
    "pn_cc = s.bn_cc.phase_noise(size=tau.size)\n",
    "pn_usb = s.bn_sbu.phase_noise(size=tau.size)\n",
    "pn_lsb = s.bn_sbl.phase_noise(size=tau.size)"
   ]
  },
  {
   "cell_type": "code",
   "execution_count": null,
   "metadata": {},
   "outputs": [],
   "source": [
    "fig, ax = plt.subplots(figsize=(6,4), dpi=150)\n",
    "\n",
    "ax.plot(tau, pn_usb, label='US beatnote phase(t)')\n",
    "ax.plot(tau, pn_lsb, label='LS beatnote phase(t)', linestyle=':')\n",
    "ax.plot(tau, pn_cc,  label='CC beatnote phase(t)')\n",
    "ax.set_xlabel(\"Time (s)\")\n",
    "ax.set_ylabel(\"Signal\")\n",
    "ax.legend()"
   ]
  },
  {
   "cell_type": "code",
   "execution_count": null,
   "metadata": {},
   "outputs": [],
   "source": [
    "f1, asd1, as1 = spc.spectra(pn_cc, fs=sps, p_lpsd='default', use_lasd=True)\n",
    "f2, asd2, as2 = spc.spectra(pn_usb, fs=sps, p_lpsd='default', use_lasd=True)\n",
    "f3, asd3, as3 = spc.spectra(pn_lsb, fs=sps, p_lpsd='default', use_lasd=True)"
   ]
  },
  {
   "cell_type": "code",
   "execution_count": null,
   "metadata": {},
   "outputs": [],
   "source": [
    "fig, ax = plt.subplots(figsize=(6,4), dpi=150)\n",
    "\n",
    "ax.loglog(f1, asd1, label='CC beatnote phase(f)')\n",
    "ax.loglog(f2, asd2, label='US beatnote phase(f)')\n",
    "ax.loglog(f3, asd3,  label='LS beatnote phase(f)', linestyle='--')\n",
    "ax.set_xlabel(\"Fourier frequency (Hz)\")\n",
    "ax.set_ylabel(r\"Amplitude spectral dentisiy ${\\rm rad}/\\sqrt{\\rm Hz}$\")\n",
    "ax.legend()"
   ]
  },
  {
   "cell_type": "code",
   "execution_count": null,
   "metadata": {},
   "outputs": [],
   "source": [
    "p_lpsd = {\"olap\":\"default\",\"bmin\":1,\"Lmin\":100,\n",
    "           \"Jdes\":10000,\"Kdes\":100,\"order\":0,\n",
    "           \"win\":np.kaiser,\"psll\":250}\n",
    "\n",
    "f4, asd4, _ = s.spectrum(tau, p_lpsd, use=['cc','sbu','sbl'], dBm=False, use_lpsd=True)"
   ]
  },
  {
   "cell_type": "code",
   "execution_count": null,
   "metadata": {},
   "outputs": [],
   "source": [
    "fig, ax = plt.subplots(figsize=(6,4), dpi=150)\n",
    "\n",
    "ax.loglog(f4, asd4)\n",
    "ax.set_xlabel(\"Fourier frequency (Hz)\")\n",
    "ax.set_ylabel(r\"Amplitude spectral dentisiy ${\\rm A}/\\sqrt{\\rm Hz}$\")"
   ]
  },
  {
   "cell_type": "code",
   "execution_count": null,
   "metadata": {},
   "outputs": [],
   "source": []
  }
 ],
 "metadata": {
  "kernelspec": {
   "display_name": "py311",
   "language": "python",
   "name": "python3"
  },
  "language_info": {
   "codemirror_mode": {
    "name": "ipython",
    "version": 3
   },
   "file_extension": ".py",
   "mimetype": "text/x-python",
   "name": "python",
   "nbconvert_exporter": "python",
   "pygments_lexer": "ipython3",
   "version": "3.11.7"
  }
 },
 "nbformat": 4,
 "nbformat_minor": 2
}
