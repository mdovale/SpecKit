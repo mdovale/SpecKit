{
 "cells": [
  {
   "cell_type": "code",
   "execution_count": null,
   "metadata": {},
   "outputs": [],
   "source": [
    "import numpy as np\n",
    "import matplotlib.pyplot as plt\n",
    "import spectools.lpsd as lpsd\n",
    "from spectools import analyzer\n",
    "import multiprocessing as mp\n",
    "ctx = mp.get_context('fork')\n",
    "pool = ctx.Pool()\n",
    "\n",
    "%load_ext autoreload\n",
    "%autoreload 2"
   ]
  },
  {
   "cell_type": "code",
   "execution_count": null,
   "metadata": {},
   "outputs": [],
   "source": [
    "size = int(1e6)\n",
    "rho = 0.5\n",
    "\n",
    "# Input signal:\n",
    "x = 1e-5*np.random.normal(size=size) + np.sum([ np.cos(np.arange(size)/(2**i)) for i in range(30)], axis=0) \\\n",
    "    + np.cumsum(np.cumsum(1e-5*np.random.normal(size=size)))\n",
    "\n",
    "# Output signal with no input influence:\n",
    "y_pure = 1e-3*np.random.normal(size=size)\n",
    "\n",
    "# Output signal with input influence:\n",
    "y = rho * x + y_pure\n",
    "\n",
    "fig, ax = plt.subplots()\n",
    "ax.plot(x, label='Input')\n",
    "ax.plot(y, label='Output with input influence')\n",
    "ax.plot(y_pure, label='Output without input influence')\n",
    "ax.set_xlabel('Sample')\n",
    "ax.set_ylabel('Signal')\n",
    "ax.legend()\n",
    "plt.show()"
   ]
  },
  {
   "cell_type": "code",
   "execution_count": null,
   "metadata": {},
   "outputs": [],
   "source": [
    "obj1 = lpsd.ltf([x, y], fs=2, pool=pool)\n",
    "obj2 = lpsd.ltf(y_pure, fs=2, pool=pool)"
   ]
  },
  {
   "cell_type": "code",
   "execution_count": null,
   "metadata": {},
   "outputs": [],
   "source": [
    "fig, ax = plt.subplots(figsize=(5,4), dpi=150)\n",
    "ax.loglog(obj1.f, obj1.Gxx, label=r'$G_{xx}$ (autospectrum of input)', ls='-')\n",
    "ax.loglog(obj1.f, obj1.Gyy, label=r'$G_{yy}$ (autospectrum of output)', ls='--')\n",
    "ax.loglog(obj1.f, obj1.GyyCx, label=r'$G_{yy:x}$ (coherent output spectrum)', ls=':')\n",
    "ax.loglog(obj1.f, obj1.GyyRx, label=r'$G_{yy \\cdot x}$ (conditioned/residual output spectrum)')\n",
    "ax.loglog(obj1.f, obj1.GyySx, label=r'Output spectrum with input influence subtracted', ls='--')\n",
    "ax.scatter(obj2.f, obj2.psd, label=r'Actual output spectrum with no input influence', c='gray', s=5)\n",
    "ax.set_xlabel('Fourier frequency (Hz)')\n",
    "ax.set_ylabel('Power spectral density')\n",
    "ax.legend(loc='upper left', bbox_to_anchor=(1, 1.), edgecolor='black', fancybox=True, shadow=True, framealpha=1)\n",
    "ax.grid(which='both')\n",
    "ax.set_xlim(obj2.f[0], obj2.f[-1])\n",
    "# ax.set_ylim(1e-11,1e6)\n",
    "plt.show()"
   ]
  },
  {
   "cell_type": "code",
   "execution_count": null,
   "metadata": {},
   "outputs": [],
   "source": []
  }
 ],
 "metadata": {
  "kernelspec": {
   "display_name": "py311",
   "language": "python",
   "name": "python3"
  },
  "language_info": {
   "codemirror_mode": {
    "name": "ipython",
    "version": 3
   },
   "file_extension": ".py",
   "mimetype": "text/x-python",
   "name": "python",
   "nbconvert_exporter": "python",
   "pygments_lexer": "ipython3",
   "version": "3.11.7"
  }
 },
 "nbformat": 4,
 "nbformat_minor": 2
}
