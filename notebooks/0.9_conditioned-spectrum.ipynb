{
 "cells": [
  {
   "cell_type": "code",
   "execution_count": null,
   "metadata": {},
   "outputs": [],
   "source": [
    "import numpy as np\n",
    "import matplotlib.pyplot as plt\n",
    "\n",
    "from speckit import compute_spectrum\n",
    "from speckit.plotting import default_rc\n",
    "\n",
    "plt.rcParams.update(default_rc)\n",
    "\n",
    "%load_ext autoreload\n",
    "%autoreload 2"
   ]
  },
  {
   "cell_type": "code",
   "execution_count": null,
   "metadata": {},
   "outputs": [],
   "source": [
    "size = int(1e6)\n",
    "rho = 0.5\n",
    "\n",
    "# Input signal:\n",
    "x = (\n",
    "    1e-5 * np.random.normal(size=size)\n",
    "    + np.sum([np.cos(np.arange(size) / (2**i)) for i in range(30)], axis=0)\n",
    "    + np.cumsum(np.cumsum(1e-5 * np.random.normal(size=size)))\n",
    ")\n",
    "\n",
    "# Output signal with no input influence:\n",
    "y_pure = 1e-3 * np.random.normal(size=size)\n",
    "\n",
    "# Output signal with input influence:\n",
    "y = rho * x + y_pure\n",
    "\n",
    "fig, ax = plt.subplots()\n",
    "ax.plot(x, label=\"Input\")\n",
    "ax.plot(y, label=\"Output with input influence\")\n",
    "ax.plot(y_pure, label=\"Output without input influence\")\n",
    "ax.set_xlabel(\"Sample\")\n",
    "ax.set_ylabel(\"Signal\")\n",
    "ax.legend()\n",
    "plt.show()"
   ]
  },
  {
   "cell_type": "code",
   "execution_count": null,
   "metadata": {},
   "outputs": [],
   "source": [
    "obj1 = compute_spectrum([x, y], fs=2)\n",
    "obj2 = compute_spectrum(y_pure, fs=2)"
   ]
  },
  {
   "cell_type": "code",
   "execution_count": null,
   "metadata": {},
   "outputs": [],
   "source": [
    "fig, ax = plt.subplots(figsize=(5, 4))\n",
    "ax.loglog(\n",
    "    obj2.f,\n",
    "    obj2.psd,\n",
    "    label=r\"Actual output spectrum with no input influence\",\n",
    "    c=\"tomato\",\n",
    "    lw=6,\n",
    ")\n",
    "ax.loglog(obj1.f, obj1.Gxx, label=r\"$G_{xx}$ (autospectrum of input)\", ls=\"-\", lw=2)\n",
    "ax.loglog(obj1.f, obj1.Gyy, label=r\"$G_{yy}$ (autospectrum of output)\", ls=\"--\", lw=2)\n",
    "ax.loglog(\n",
    "    obj1.f, obj1.GyyCx, label=r\"$G_{yy:x}$ (coherent output spectrum)\", ls=\":\", lw=2\n",
    ")\n",
    "ax.loglog(\n",
    "    obj1.f,\n",
    "    obj1.GyyRx,\n",
    "    label=r\"$G_{yy \\cdot x}$ (conditioned/residual output spectrum)\",\n",
    "    c=\"royalblue\",\n",
    "    lw=3,\n",
    ")\n",
    "ax.loglog(\n",
    "    obj1.f,\n",
    "    obj1.GyySx,\n",
    "    label=r\"Output spectrum with input influence subtracted\",\n",
    "    ls=\"--\",\n",
    "    c=\"lime\",\n",
    ")\n",
    "ax.set_xlabel(\"Fourier frequency (Hz)\")\n",
    "ax.set_ylabel(\"Power spectral density\")\n",
    "ax.legend(\n",
    "    loc=\"upper left\",\n",
    "    bbox_to_anchor=(1, 1.0),\n",
    "    edgecolor=\"black\",\n",
    "    fancybox=True,\n",
    "    shadow=True,\n",
    "    framealpha=1,\n",
    ")\n",
    "ax.set_xlim(obj2.f[0], obj2.f[-1])\n",
    "plt.show()"
   ]
  }
 ],
 "metadata": {
  "kernelspec": {
   "display_name": ".venv",
   "language": "python",
   "name": "python3"
  },
  "language_info": {
   "codemirror_mode": {
    "name": "ipython",
    "version": 3
   },
   "file_extension": ".py",
   "mimetype": "text/x-python",
   "name": "python",
   "nbconvert_exporter": "python",
   "pygments_lexer": "ipython3",
   "version": "3.12.11"
  }
 },
 "nbformat": 4,
 "nbformat_minor": 2
}
