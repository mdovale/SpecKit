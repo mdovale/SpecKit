{
 "cells": [
  {
   "cell_type": "code",
   "execution_count": null,
   "metadata": {},
   "outputs": [],
   "source": [
    "import numpy as np\n",
    "import matplotlib.pyplot as plt\n",
    "from scipy import signal\n",
    "\n",
    "from spectools import lpsd\n",
    "\n",
    "from multiprocessing import Pool\n",
    "pool = Pool()"
   ]
  },
  {
   "cell_type": "code",
   "execution_count": null,
   "metadata": {},
   "outputs": [],
   "source": [
    "def fftnoise(f):\n",
    "    f = np.array(f, dtype='complex')\n",
    "    Np = (len(f) - 1) // 2\n",
    "    phases = np.random.rand(Np) * 2 * np.pi\n",
    "    phases = np.cos(phases) + 1j * np.sin(phases)\n",
    "    f[1:Np+1] *= phases\n",
    "    f[-1:-1-Np:-1] = np.conj(f[1:Np+1])\n",
    "    return np.fft.ifft(f).real\n",
    "    \n",
    "def band_limited_noise(min_freq, max_freq, samples=1024, samplerate=1):\n",
    "    freqs = np.abs(np.fft.fftfreq(samples, 1/samplerate))\n",
    "    f = np.zeros(samples)\n",
    "    idx = np.where(np.logical_and(freqs>=min_freq, freqs<=max_freq))[0]\n",
    "    f[idx] = 1\n",
    "    return fftnoise(f)\n",
    "    \n",
    "N  = int(1e6)\n",
    "fs = 2000\n",
    "\n",
    "x1 = 200*band_limited_noise(200, 500, N, fs)\n",
    "x2 = 20*band_limited_noise(100, 200, N, fs)\n",
    "\n",
    "fig, ax = plt.subplots(figsize=(6,4), dpi=150)\n",
    "ax.set_xlabel('Sample')\n",
    "ax.set_ylabel('Signal')\n",
    "ax.plot(x1)\n",
    "ax.plot(x2)\n",
    "\n",
    "f1, psd01 = signal.welch(x1, fs=fs, nperseg=200, noverlap=100, scaling='spectrum', return_onesided=True)\n",
    "f2, psd02 = signal.welch(x2, fs=fs, nperseg=200, noverlap=100, scaling='spectrum', return_onesided=True)\n",
    "\n",
    "fig, ax = plt.subplots(figsize=(6,4), dpi=150)\n",
    "ax.set_xlabel('Fourier frequency (Hz)')\n",
    "ax.set_ylabel(r'Power spectrum (${\\rm units}^2/{\\rm Hz}$)')\n",
    "ax.loglog(f1, psd01)\n",
    "ax.loglog(f2, psd02, linestyle='--')"
   ]
  },
  {
   "cell_type": "code",
   "execution_count": null,
   "metadata": {},
   "outputs": [],
   "source": [
    "y = (x1,x2)"
   ]
  },
  {
   "cell_type": "code",
   "execution_count": null,
   "metadata": {},
   "outputs": [],
   "source": [
    "bmin = 0\n",
    "order = -1\n",
    "lpsd.use_c_core = False\n",
    "\n",
    "psd1 = lpsd.lpsd(y, fs=fs, bmin=bmin, order=order, pool=pool, object_return=True)"
   ]
  },
  {
   "cell_type": "code",
   "execution_count": null,
   "metadata": {},
   "outputs": [],
   "source": [
    "bmin = 0\n",
    "order = -1\n",
    "lpsd.use_c_core = True\n",
    "\n",
    "psd2 = lpsd.lpsd(y, fs=fs, bmin=bmin, order=order, object_return=True)"
   ]
  },
  {
   "cell_type": "code",
   "execution_count": null,
   "metadata": {},
   "outputs": [],
   "source": [
    "fig, ax = plt.subplots(figsize=(6,4), dpi=150)\n",
    "ax.set_xlabel('Fourier frequency (Hz)')\n",
    "ax.set_ylabel(r'Power spectrums ${\\rm units}^2/{\\rm Hz}$')\n",
    "ax.loglog(f1, psd01)\n",
    "ax.loglog(f2, psd02)\n",
    "ax.loglog(psd1.f, psd1.XX)\n",
    "ax.loglog(psd2.f, psd2.XX, linestyle='--')\n",
    "ax.loglog(psd1.f, psd1.YY)\n",
    "ax.loglog(psd2.f, psd2.YY, linestyle='--')"
   ]
  },
  {
   "cell_type": "code",
   "execution_count": null,
   "metadata": {},
   "outputs": [],
   "source": [
    "fig, ax = plt.subplots(figsize=(6,4), dpi=150)\n",
    "ax.set_xlabel('Fourier frequency (Hz)')\n",
    "ax.set_ylabel(r'Cross spectral density (units $/\\sqrt{\\rm Hz}$)')\n",
    "ax.loglog(psd1.f, np.sqrt(np.abs(psd1.Gxy)))\n",
    "ax.loglog(psd2.f, np.sqrt(np.abs(psd2.Gxy)), linestyle='--')"
   ]
  },
  {
   "cell_type": "code",
   "execution_count": null,
   "metadata": {},
   "outputs": [],
   "source": []
  }
 ],
 "metadata": {
  "kernelspec": {
   "display_name": "py311",
   "language": "python",
   "name": "python3"
  },
  "language_info": {
   "codemirror_mode": {
    "name": "ipython",
    "version": 3
   },
   "file_extension": ".py",
   "mimetype": "text/x-python",
   "name": "python",
   "nbconvert_exporter": "python",
   "pygments_lexer": "ipython3",
   "version": "3.11.7"
  }
 },
 "nbformat": 4,
 "nbformat_minor": 2
}
