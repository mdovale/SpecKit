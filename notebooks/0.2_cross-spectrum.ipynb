{
 "cells": [
  {
   "cell_type": "code",
   "execution_count": null,
   "metadata": {},
   "outputs": [],
   "source": [
    "import numpy as np\n",
    "import matplotlib.pyplot as plt\n",
    "from scipy import signal\n",
    "from spectools import lpsd\n",
    "from multiprocessing import Pool\n",
    "pool = Pool()"
   ]
  },
  {
   "cell_type": "code",
   "execution_count": null,
   "metadata": {},
   "outputs": [],
   "source": [
    "def fftnoise(f):\n",
    "    f = np.array(f, dtype='complex')\n",
    "    Np = (len(f) - 1) // 2\n",
    "    phases = np.random.rand(Np) * 2 * np.pi\n",
    "    phases = np.cos(phases) + 1j * np.sin(phases)\n",
    "    f[1:Np+1] *= phases\n",
    "    f[-1:-1-Np:-1] = np.conj(f[1:Np+1])\n",
    "    return np.fft.ifft(f).real\n",
    "    \n",
    "def band_limited_noise(min_freq, max_freq, samples=1024, samplerate=1):\n",
    "    freqs = np.abs(np.fft.fftfreq(samples, 1/samplerate))\n",
    "    f = np.zeros(samples)\n",
    "    idx = np.where(np.logical_and(freqs>=min_freq, freqs<=max_freq))[0]\n",
    "    f[idx] = 1\n",
    "    return fftnoise(f)\n",
    "    \n",
    "N  = int(1e6)\n",
    "fs = 2000\n",
    "\n",
    "x1 = 200*band_limited_noise(200, 500, N, fs)\n",
    "x2 = 20*band_limited_noise(100, 200, N, fs)\n",
    "\n",
    "fig, ax = plt.subplots(figsize=(6,4), dpi=150)\n",
    "ax.set_xlabel('Sample')\n",
    "ax.set_ylabel('Signal')\n",
    "ax.plot(x1, color='gray')\n",
    "ax.plot(x2, color='k')\n",
    "plt.show()\n",
    "\n",
    "f1, ps1 = signal.welch(x1, fs=fs, nperseg=int(1e6/2), noverlap=int(1e6/4), scaling='spectrum', return_onesided=True)\n",
    "f2, ps2 = signal.welch(x2, fs=fs, nperseg=int(1e6/2), noverlap=int(1e6/4), scaling='spectrum', return_onesided=True)\n",
    "f3, csd12 = signal.csd(x1, x2, fs=fs, nperseg=int(1e6/2), noverlap=int(1e6/4), scaling='density', return_onesided=True)\n",
    "\n",
    "fig, ax = plt.subplots(figsize=(6,4), dpi=150)\n",
    "ax.set_xlabel('Fourier frequency (Hz)')\n",
    "ax.set_ylabel(r'Power spectrum (${\\rm units}^2/{\\rm Hz}$)')\n",
    "ax.loglog(f1, ps1, color='gray')\n",
    "ax.loglog(f2, ps2, linestyle='--', color='gray')\n",
    "plt.show()"
   ]
  },
  {
   "cell_type": "code",
   "execution_count": null,
   "metadata": {},
   "outputs": [],
   "source": [
    "bmin = 0\n",
    "order = -1\n",
    "\n",
    "pso1 = lpsd.ltf(x1, fs=fs, bmin=bmin, order=order, pool=pool, win=\"Kaiser\")\n",
    "pso2 = lpsd.ltf(x2, fs=fs, bmin=bmin, order=order, pool=pool, win=\"Kaiser\")\n",
    "csd  = lpsd.ltf([x1,x2], fs=fs, bmin=bmin, order=order, pool=pool, win=\"Kaiser\", verbose=True)"
   ]
  },
  {
   "cell_type": "code",
   "execution_count": null,
   "metadata": {},
   "outputs": [],
   "source": [
    "fig, ax = plt.subplots(figsize=(6,4), dpi=150)\n",
    "ax.set_xlabel('Fourier frequency (Hz)')\n",
    "ax.set_ylabel(r'Power spectrums ${\\rm units}^2/{\\rm Hz}$')\n",
    "ax.loglog(f1, ps1, label=\"Welch x1\", color='gray', ls='-')\n",
    "ax.loglog(f2, ps2, label=\"Welch x2\", color='gray', ls='--')\n",
    "ax.loglog(pso1.f, pso1.ps, label=\"LPSD x1\", color='k', ls='-')\n",
    "ax.loglog(pso2.f, pso2.ps, label=\"LPSD x2\", color='k', ls='--')\n",
    "ax.legend()\n",
    "fig.tight_layout()\n",
    "plt.show()"
   ]
  },
  {
   "cell_type": "code",
   "execution_count": null,
   "metadata": {},
   "outputs": [],
   "source": [
    "fig, ax = plt.subplots(figsize=(6,4), dpi=150)\n",
    "ax.set_xlabel('Fourier frequency (Hz)')\n",
    "ax.set_ylabel(r'Cross spectral density (units /Hz)')\n",
    "ax.loglog(f3, np.abs(csd12), label='Welch', color='gray')\n",
    "ax.loglog(csd.f, np.abs(csd.csd), label='LPSD', color='k')\n",
    "ax.legend()\n",
    "fig.tight_layout()\n",
    "plt.show()"
   ]
  },
  {
   "cell_type": "code",
   "execution_count": null,
   "metadata": {},
   "outputs": [],
   "source": []
  }
 ],
 "metadata": {
  "kernelspec": {
   "display_name": "py311",
   "language": "python",
   "name": "python3"
  },
  "language_info": {
   "codemirror_mode": {
    "name": "ipython",
    "version": 3
   },
   "file_extension": ".py",
   "mimetype": "text/x-python",
   "name": "python",
   "nbconvert_exporter": "python",
   "pygments_lexer": "ipython3",
   "version": "3.11.7"
  }
 },
 "nbformat": 4,
 "nbformat_minor": 2
}
