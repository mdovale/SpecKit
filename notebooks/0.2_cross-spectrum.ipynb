{
 "cells": [
  {
   "cell_type": "code",
   "execution_count": null,
   "metadata": {},
   "outputs": [],
   "source": [
    "import numpy as np\n",
    "import matplotlib.pyplot as plt\n",
    "from scipy.signal import welch, csd, butter, lfilter, freqz\n",
    "from speckit import lpsd\n",
    "from multiprocessing import Pool\n",
    "pool = Pool()"
   ]
  },
  {
   "cell_type": "code",
   "execution_count": null,
   "metadata": {},
   "outputs": [],
   "source": [
    "def butter_lowpass(cutoff, fs, order=5):\n",
    "    nyq = 0.5 * fs\n",
    "    normal_cutoff = cutoff / nyq\n",
    "    b, a = butter(order, normal_cutoff, btype='low', analog=False)\n",
    "    return b, a\n",
    "\n",
    "def butter_lowpass_filter(data, cutoff, fs, order=5):\n",
    "    b, a = butter_lowpass(cutoff, fs, order=order)\n",
    "    y = lfilter(b, a, data)\n",
    "    return y\n",
    "\n",
    "# Setting standard filter requirements.\n",
    "order = 3\n",
    "fs = 2\n",
    "cutoff = 1e-3\n",
    "\n",
    "b, a = butter_lowpass(cutoff, fs, order)\n",
    "w, h = freqz(b, a, worN=8000)\n",
    "\n",
    "plt.subplot(2, 1, 1)\n",
    "plt.plot(0.5*fs*w/np.pi, np.abs(h), 'b')\n",
    "plt.loglog(cutoff, 0.5*np.sqrt(2), 'ko')\n",
    "plt.axvline(cutoff, color='k')\n",
    "plt.xlim(0, 0.5*fs)\n",
    "plt.title(\"Lowpass Filter Frequency Response\")\n",
    "plt.xlabel('Frequency [Hz]')\n",
    "plt.grid()\n",
    "plt.show()\n",
    "\n",
    "N  = int(1e6)\n",
    "x1 = np.random.rand(N)\n",
    "x2 = butter_lowpass_filter(x1, cutoff, fs, order)\n",
    "\n",
    "fig, ax = plt.subplots(figsize=(6,4), dpi=150)\n",
    "ax.set_xlabel('Sample')\n",
    "ax.set_ylabel('Signal')\n",
    "ax.plot(x1, color='gray', label='Input signal (x1)')\n",
    "ax.plot(x2, color='k', label='Filtered signal (x2)')\n",
    "plt.show()\n",
    "\n",
    "f1, ps1 = welch(x1, fs=fs, nperseg=int(1e6/2), noverlap=int(1e6/4), scaling='density', return_onesided=True, window='hann')\n",
    "f2, ps2 = welch(x2, fs=fs, nperseg=int(1e6/2), noverlap=int(1e6/4), scaling='density', return_onesided=True, window='hann')\n",
    "f3, csd12 = csd(x1, x2, fs=fs, nperseg=int(1e6/2), noverlap=int(1e6/4), scaling='density', return_onesided=True, window='hann')\n",
    "\n",
    "fig, ax = plt.subplots(figsize=(6,4), dpi=150)\n",
    "ax.set_xlabel('Fourier frequency (Hz)')\n",
    "ax.set_ylabel(r'Spectral densities (${\\rm units}^2/{\\rm Hz}$)')\n",
    "ax.loglog(f1, ps1, label='PSD(x1)')\n",
    "ax.loglog(f2, ps2, label='PSD(x2)')\n",
    "ax.loglog(f3, np.abs(csd12), label='CSD(x1,x2)')\n",
    "ax.legend()\n",
    "plt.show()"
   ]
  },
  {
   "cell_type": "code",
   "execution_count": null,
   "metadata": {},
   "outputs": [],
   "source": [
    "bmin = 1.0\n",
    "order = -1\n",
    "olap = 0.5\n",
    "Lmin = int(7e3)\n",
    "\n",
    "# About 4 seconds on Apple M4 Max\n",
    "obj  = lpsd.ltf([x1,x2], fs=fs, olap=olap, bmin=bmin, Lmin=Lmin, order=order, pool=pool, win=\"hann\")"
   ]
  },
  {
   "cell_type": "code",
   "execution_count": null,
   "metadata": {},
   "outputs": [],
   "source": [
    "fig, ax = plt.subplots(figsize=(6,4), dpi=150)\n",
    "ax.set_xlabel('Fourier frequency (Hz)')\n",
    "ax.set_ylabel(r'Spectral densities ${\\rm units}^2/{\\rm Hz}$')\n",
    "ax.loglog(f1, ps1, label=\"PSD(x1) (Welch)\")\n",
    "ax.loglog(f2, ps2, label=\"PSD(x2) (Welch)\")\n",
    "ax.loglog(f3, np.abs(csd12), label='|CSD(x1,x2)| (Welch)')\n",
    "ax.loglog(obj.f, obj.Gxx, label=\"PSD(x1) (spectools)\", color='lightblue', ls='--')\n",
    "ax.loglog(obj.f, obj.Gyy, label=\"LPSD(x2) (spectools)\", color='yellow', ls='--')\n",
    "ax.loglog(obj.f, np.abs(obj.Gxy), label=\"|CSD(x1,x2)| (spectools)\", color='lightgreen', ls='--')\n",
    "ax.legend()\n",
    "fig.tight_layout()\n",
    "plt.show()"
   ]
  },
  {
   "cell_type": "code",
   "execution_count": null,
   "metadata": {},
   "outputs": [],
   "source": [
    "fig, (ax2, ax1) = obj.plot(which='bode', errors=True, sigma=3, dB=True)\n",
    "ax1.set_ylim(-360,60)\n",
    "plt.show()"
   ]
  },
  {
   "cell_type": "code",
   "execution_count": null,
   "metadata": {},
   "outputs": [],
   "source": [
    "fig, ax = obj.plot(which='csd', errors=True)\n",
    "plt.show()"
   ]
  },
  {
   "cell_type": "code",
   "execution_count": null,
   "metadata": {},
   "outputs": [],
   "source": [
    "fig, ax = obj.plot(which='coh', errors=True, sigma=5,\n",
    "                   c='darkred', lw=1.0, ls=':', label=r'$\\gamma_{xy}^2$')\n",
    "plt.show()"
   ]
  }
 ],
 "metadata": {
  "kernelspec": {
   "display_name": ".venv",
   "language": "python",
   "name": "python3"
  },
  "language_info": {
   "codemirror_mode": {
    "name": "ipython",
    "version": 3
   },
   "file_extension": ".py",
   "mimetype": "text/x-python",
   "name": "python",
   "nbconvert_exporter": "python",
   "pygments_lexer": "ipython3",
   "version": "3.12.11"
  }
 },
 "nbformat": 4,
 "nbformat_minor": 2
}
