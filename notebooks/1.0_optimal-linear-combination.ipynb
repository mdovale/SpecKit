{
 "cells": [
  {
   "cell_type": "code",
   "execution_count": null,
   "id": "5506a14c",
   "metadata": {},
   "outputs": [],
   "source": [
    "import numpy as np\n",
    "import pandas as pd\n",
    "import matplotlib.pyplot as plt\n",
    "\n",
    "from speckit.dsp import optimal_linear_combination\n",
    "from speckit.plotting import default_rc\n",
    "\n",
    "plt.rcParams.update(default_rc)"
   ]
  },
  {
   "cell_type": "code",
   "execution_count": null,
   "id": "8f09b479",
   "metadata": {},
   "outputs": [],
   "source": [
    "# Utility: create synthetic signals\n",
    "def create_synthetic_data_1d(n=1000, noise_level=0.1, seed=0):\n",
    "    np.random.seed(seed)\n",
    "    t = np.linspace(0, 10, n)\n",
    "    x = np.sin(2 * np.pi * 1.0 * t)  # input\n",
    "    noise = noise_level * np.random.randn(n)\n",
    "    y = -2.5 * x + noise  # output = -2.5 * x + noise\n",
    "    return pd.DataFrame({\"x\": x, \"y\": y})\n",
    "\n",
    "\n",
    "def create_synthetic_data_miso(n=1000, noise_level=0.1, seed=0):\n",
    "    np.random.seed(seed)\n",
    "    t = np.linspace(0, 10, n)\n",
    "    x1 = np.sin(2 * np.pi * 1.0 * t)\n",
    "    x2 = np.cos(2 * np.pi * 0.5 * t)\n",
    "    x3 = np.exp(-0.1 * t)\n",
    "    noise = noise_level * np.random.randn(n)\n",
    "    y = 1.5 * x1 - 0.8 * x2 + 2.0 * x3 + noise\n",
    "    return pd.DataFrame({\"x1\": x1, \"x2\": x2, \"x3\": x3, \"y\": y})"
   ]
  },
  {
   "cell_type": "code",
   "execution_count": null,
   "id": "c86beea3",
   "metadata": {},
   "outputs": [],
   "source": [
    "# Run 1D test\n",
    "df1d = create_synthetic_data_1d()\n",
    "res_1d, residual_1d = optimal_linear_combination(\n",
    "    df1d, inputs=[\"x\"], output=\"y\", domain=\"time\"\n",
    ")\n",
    "\n",
    "print(\"\\nRecovered coefficient:\", res_1d.x)\n",
    "plt.figure()\n",
    "plt.title(\"Single-input single-output problem\")\n",
    "plt.plot(df1d[\"x\"])\n",
    "plt.plot(df1d[\"y\"])\n",
    "plt.plot(residual_1d)\n",
    "plt.xlabel(\"Sample\")\n",
    "plt.ylabel(\"Residual\")\n",
    "plt.show()"
   ]
  },
  {
   "cell_type": "code",
   "execution_count": null,
   "id": "59b04d23",
   "metadata": {},
   "outputs": [],
   "source": [
    "# Run MISO test\n",
    "df_miso = create_synthetic_data_miso()\n",
    "res_miso, residual_miso = optimal_linear_combination(\n",
    "    df_miso, inputs=[\"x1\", \"x2\", \"x3\"], output=\"y\", domain=\"time\"\n",
    ")\n",
    "\n",
    "print(\"\\nRecovered coefficients:\", res_miso.x)\n",
    "plt.figure()\n",
    "plt.title(\"Multiple-input single-output problem\")\n",
    "plt.plot(df_miso[\"x1\"])\n",
    "plt.plot(df_miso[\"x2\"])\n",
    "plt.plot(df_miso[\"x3\"])\n",
    "plt.plot(df_miso[\"y\"])\n",
    "plt.plot(residual_miso)\n",
    "plt.xlabel(\"Sample\")\n",
    "plt.ylabel(\"Residual\")\n",
    "plt.show()"
   ]
  }
 ],
 "metadata": {
  "kernelspec": {
   "display_name": ".venv",
   "language": "python",
   "name": "python3"
  },
  "language_info": {
   "codemirror_mode": {
    "name": "ipython",
    "version": 3
   },
   "file_extension": ".py",
   "mimetype": "text/x-python",
   "name": "python",
   "nbconvert_exporter": "python",
   "pygments_lexer": "ipython3",
   "version": "3.12.11"
  }
 },
 "nbformat": 4,
 "nbformat_minor": 5
}
